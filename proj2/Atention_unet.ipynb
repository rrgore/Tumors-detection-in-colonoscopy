{
  "cells": [
    {
      "cell_type": "markdown",
      "metadata": {
        "id": "Tgfb3xXCdab-"
      },
      "source": [
        "# **Dataset preparation**"
      ]
    },
    {
      "cell_type": "code",
      "execution_count": null,
      "metadata": {
        "id": "4XPMss7jk3qb"
      },
      "outputs": [],
      "source": [
        "!unrar x \"TrainingSet_NewGT.rar\""
      ]
    },
    {
      "cell_type": "code",
      "execution_count": 12,
      "metadata": {
        "colab": {
          "base_uri": "https://localhost:8080/"
        },
        "id": "QTUzAc_6lZBo",
        "outputId": "f7dd8510-66d5-4a6f-ad62-1001d68037da"
      },
      "outputs": [
        {
          "name": "stdout",
          "output_type": "stream",
          "text": [
            "\u001b[0m\u001b[01;34mShortVD_np_10\u001b[0m/  \u001b[01;34mShortVD_np_14\u001b[0m/  \u001b[01;34mShortVD_np_8\u001b[0m/   \u001b[01;34mshortVD_wp_4\u001b[0m/   \u001b[01;34mShortVD_wp_66\u001b[0m/\n",
            "\u001b[01;34mShortVD_np_11\u001b[0m/  \u001b[01;34mShortVD_np_5\u001b[0m/   \u001b[01;34mShortVD_np_9\u001b[0m/   \u001b[01;34mShortVD_wp_49\u001b[0m/  \u001b[01;34mShortVD_wp_68\u001b[0m/\n",
            "\u001b[01;34mShortVD_np_12\u001b[0m/  \u001b[01;34mShortVD_np_6\u001b[0m/   \u001b[01;34mShortVD_wp_2\u001b[0m/   \u001b[01;34mShortVD_wp_52\u001b[0m/  \u001b[01;34mShortVD_wp_69\u001b[0m/\n",
            "\u001b[01;34mShortVD_np_13\u001b[0m/  \u001b[01;34mShortVD_np_7\u001b[0m/   \u001b[01;34mShortVD_wp_24\u001b[0m/  \u001b[01;34mShortVD_wp_61\u001b[0m/  \u001b[01;34mShortVD_wp_70\u001b[0m/\n"
          ]
        }
      ],
      "source": [
        "ls"
      ]
    },
    {
      "cell_type": "code",
      "execution_count": null,
      "metadata": {
        "id": "h6Kj6H6mlfEU"
      },
      "outputs": [],
      "source": []
    },
    {
      "cell_type": "code",
      "execution_count": null,
      "metadata": {
        "id": "A-w9RL7rdYvw"
      },
      "outputs": [],
      "source": [
        "import os \n",
        "\n",
        "Train_path = 'TrainingSet_NewGT/'\n",
        "Test_path = 'TrainingSet_NewGT/'"
      ]
    },
    {
      "cell_type": "code",
      "execution_count": null,
      "metadata": {
        "id": "pprsWXEndZu-"
      },
      "outputs": [],
      "source": []
    },
    {
      "cell_type": "code",
      "execution_count": null,
      "metadata": {
        "id": "FK4wKdu7dZ4v"
      },
      "outputs": [],
      "source": []
    },
    {
      "cell_type": "markdown",
      "metadata": {
        "id": "WnTReV6NdgIC"
      },
      "source": [
        "# **Import**"
      ]
    },
    {
      "cell_type": "code",
      "execution_count": 2,
      "metadata": {
        "colab": {
          "base_uri": "https://localhost:8080/"
        },
        "id": "bBZZ5n8JWLp-",
        "outputId": "051dff2d-a920-4fcd-afc3-67ed426241b1"
      },
      "outputs": [
        {
          "name": "stdout",
          "output_type": "stream",
          "text": [
            "Collecting keras-unet-collection\n",
            "  Downloading keras_unet_collection-0.1.13-py3-none-any.whl (67 kB)\n",
            "\u001b[?25l\r\u001b[K     |████▉                           | 10 kB 21.0 MB/s eta 0:00:01\r\u001b[K     |█████████▋                      | 20 kB 15.4 MB/s eta 0:00:01\r\u001b[K     |██████████████▌                 | 30 kB 11.0 MB/s eta 0:00:01\r\u001b[K     |███████████████████▎            | 40 kB 9.4 MB/s eta 0:00:01\r\u001b[K     |████████████████████████▏       | 51 kB 4.7 MB/s eta 0:00:01\r\u001b[K     |█████████████████████████████   | 61 kB 5.5 MB/s eta 0:00:01\r\u001b[K     |████████████████████████████████| 67 kB 3.0 MB/s \n",
            "\u001b[?25hInstalling collected packages: keras-unet-collection\n",
            "Successfully installed keras-unet-collection-0.1.13\n"
          ]
        }
      ],
      "source": [
        "!pip install keras-unet-collection"
      ]
    },
    {
      "cell_type": "code",
      "execution_count": 3,
      "metadata": {
        "id": "bwnI2YNDWtYY"
      },
      "outputs": [],
      "source": [
        "from keras_unet_collection import models"
      ]
    },
    {
      "cell_type": "code",
      "execution_count": null,
      "metadata": {
        "id": "9giUpzMgX2Bp"
      },
      "outputs": [],
      "source": [
        "help(models.att_unet_2d)"
      ]
    },
    {
      "cell_type": "markdown",
      "metadata": {
        "id": "c_HSTo-KdR-h"
      },
      "source": [
        "# **Attention Unet model**"
      ]
    },
    {
      "cell_type": "code",
      "execution_count": 7,
      "metadata": {
        "colab": {
          "base_uri": "https://localhost:8080/"
        },
        "id": "kwx6FLD2X4GP",
        "outputId": "7b47c1bc-54cb-4a21-a1d0-f38f80aa1795"
      },
      "outputs": [
        {
          "name": "stderr",
          "output_type": "stream",
          "text": [
            "/usr/local/lib/python3.7/dist-packages/keras_unet_collection/_backbone_zoo.py:45: UserWarning: \n",
            "\n",
            "Backbone VGG16 does not use batch norm, but other layers received batch_norm=True\n",
            "  warnings.warn(param_mismatch);\n"
          ]
        },
        {
          "name": "stdout",
          "output_type": "stream",
          "text": [
            "Downloading data from https://storage.googleapis.com/tensorflow/keras-applications/vgg16/vgg16_weights_tf_dim_ordering_tf_kernels_notop.h5\n",
            "58892288/58889256 [==============================] - 0s 0us/step\n",
            "58900480/58889256 [==============================] - 0s 0us/step\n"
          ]
        }
      ],
      "source": [
        "att_unet_model = models.att_unet_2d((128, 128, 3), filter_num=[64, 128, 256, 512, 1024], n_labels=2, \n",
        "                           stack_num_down=2, stack_num_up=2, activation='ReLU', \n",
        "                           atten_activation='ReLU', attention='add', output_activation='Sigmoid', \n",
        "                           batch_norm=True, pool=False, unpool=False, \n",
        "                           backbone='VGG16', weights='imagenet', \n",
        "                           freeze_backbone=True, freeze_batch_norm=True, \n",
        "                           name='attunet')"
      ]
    },
    {
      "cell_type": "code",
      "execution_count": 8,
      "metadata": {
        "colab": {
          "base_uri": "https://localhost:8080/",
          "height": 35
        },
        "id": "s_AGIgXjY1Lo",
        "outputId": "78271524-b6a9-41ed-d477-bc2b63533e48"
      },
      "outputs": [
        {
          "data": {
            "application/vnd.google.colaboratory.intrinsic+json": {
              "type": "string"
            },
            "text/plain": [
              "'VGG16_backbone'"
            ]
          },
          "execution_count": 8,
          "metadata": {},
          "output_type": "execute_result"
        }
      ],
      "source": [
        "att_unet_model.layers[1].name"
      ]
    },
    {
      "cell_type": "code",
      "execution_count": 6,
      "metadata": {
        "id": "TX3240ITY-fF"
      },
      "outputs": [],
      "source": [
        "import numpy as np\n",
        "from tensorflow import keras"
      ]
    },
    {
      "cell_type": "code",
      "execution_count": null,
      "metadata": {
        "id": "OHPuBA2_Y1vC"
      },
      "outputs": [],
      "source": [
        "att_unet_model.compile(loss=keras.losses.binary_crossentropy, optimizer=keras.optimizers.Adam(lr=1e-3), metrics = ['accuracy'])"
      ]
    },
    {
      "cell_type": "code",
      "execution_count": null,
      "metadata": {
        "id": "t3oJFCcHbIGf"
      },
      "outputs": [],
      "source": [
        "print(att_unet_model.summary())"
      ]
    },
    {
      "cell_type": "code",
      "execution_count": null,
      "metadata": {
        "id": "nkqWOsLJbNRw"
      },
      "outputs": [],
      "source": [
        "import datetime\n",
        "start1 = datetime.now()"
      ]
    },
    {
      "cell_type": "code",
      "execution_count": null,
      "metadata": {
        "id": "JuMW5c8pf5g2"
      },
      "outputs": [],
      "source": [
        "#callbacks\n",
        "\n",
        "callback = tf.keras.callbacks.EarlyStopping(monitor = 'val_accuracy', patience = 4)"
      ]
    },
    {
      "cell_type": "code",
      "execution_count": null,
      "metadata": {
        "id": "wCMqDeuvbVLZ"
      },
      "outputs": [],
      "source": [
        "hist = att_unet_model.fit(X_train, y_train, verbose = 1, batch_size= 256, \n",
        "                          shuffle = False, epochs=40, validation_split = 0.15, callbacks = [callback])\n"
      ]
    },
    {
      "cell_type": "code",
      "execution_count": null,
      "metadata": {
        "id": "cZRz-eEwbxs1"
      },
      "outputs": [],
      "source": [
        "stop1 = datetime.now()"
      ]
    },
    {
      "cell_type": "code",
      "execution_count": null,
      "metadata": {
        "id": "zUELRUwWcnSG"
      },
      "outputs": [],
      "source": [
        "execution_time = stop1-start1"
      ]
    },
    {
      "cell_type": "code",
      "execution_count": null,
      "metadata": {
        "id": "SRB1bg2actno"
      },
      "outputs": [],
      "source": [
        "att_unet_model.save(\"Colonoscopy_Attention_UNet.hdf5\")"
      ]
    },
    {
      "cell_type": "markdown",
      "metadata": {
        "id": "sxqgpDlRdAqx"
      },
      "source": [
        "# Plots and Visualizations "
      ]
    }
  ],
  "metadata": {
    "colab": {
      "collapsed_sections": [],
      "name": "Atention_unet.ipynb",
      "provenance": []
    },
    "kernelspec": {
      "display_name": "Python 3",
      "name": "python3"
    },
    "language_info": {
      "name": "python"
    }
  },
  "nbformat": 4,
  "nbformat_minor": 0
}
