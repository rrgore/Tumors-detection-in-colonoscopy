{
  "nbformat": 4,
  "nbformat_minor": 0,
  "metadata": {
    "colab": {
      "name": "proj1-2.ipynb",
      "provenance": [],
      "collapsed_sections": []
    },
    "kernelspec": {
      "name": "python3",
      "display_name": "Python 3"
    },
    "language_info": {
      "name": "python"
    },
    "accelerator": "GPU"
  },
  "cells": [
    {
      "cell_type": "code",
      "execution_count": null,
      "metadata": {
        "id": "ZWTEIGY-EGdc"
      },
      "outputs": [],
      "source": [
        "!ls drive/MyDrive/"
      ]
    },
    {
      "cell_type": "code",
      "source": [
        "!cp drive/MyDrive/QA-Polyp-Dataset-2015-train.tar ."
      ],
      "metadata": {
        "id": "m9Ncb-W4FkEh"
      },
      "execution_count": null,
      "outputs": []
    },
    {
      "cell_type": "code",
      "source": [
        "!cp drive/MyDrive/QA-Polyp.zip ."
      ],
      "metadata": {
        "id": "4UK2NgEUXTAO"
      },
      "execution_count": 4,
      "outputs": []
    },
    {
      "cell_type": "code",
      "source": [
        "!ls"
      ],
      "metadata": {
        "colab": {
          "base_uri": "https://localhost:8080/"
        },
        "id": "XQUPsvsFFrl1",
        "outputId": "fcdb2a87-ee64-43c6-98ac-0724f7994c22"
      },
      "execution_count": 15,
      "outputs": [
        {
          "output_type": "stream",
          "name": "stdout",
          "text": [
            "drive  QA-Polyp  QA-Polyp.zip  sample_data\n"
          ]
        }
      ]
    },
    {
      "cell_type": "code",
      "source": [
        "!tar -xvf QA-Polyp-Dataset-2015-train.tar"
      ],
      "metadata": {
        "id": "4U4JOfW8FuB4"
      },
      "execution_count": null,
      "outputs": []
    },
    {
      "cell_type": "code",
      "source": [
        "!unzip -q QA-Polyp.zip"
      ],
      "metadata": {
        "id": "V_JKx9u2XagK"
      },
      "execution_count": 6,
      "outputs": []
    },
    {
      "cell_type": "code",
      "source": [
        "!ls QA-Polyp/train"
      ],
      "metadata": {
        "colab": {
          "base_uri": "https://localhost:8080/"
        },
        "id": "8OknBU2_F1FW",
        "outputId": "9e72e5de-d7b0-4161-9da0-54c963e6eee5"
      },
      "execution_count": 7,
      "outputs": [
        {
          "output_type": "stream",
          "name": "stdout",
          "text": [
            "0-clear  1-blurry  1-blurry-aug  train.txt\n"
          ]
        }
      ]
    },
    {
      "cell_type": "code",
      "source": [
        "!ls QA-Polyp/train/1-blurry/ | wc -l"
      ],
      "metadata": {
        "id": "_S1ITeg8F88i"
      },
      "execution_count": null,
      "outputs": []
    },
    {
      "cell_type": "code",
      "source": [
        "!mkdir QA-Polyp/train/1-blurry-aug"
      ],
      "metadata": {
        "id": "BnG3AKiZJKYs"
      },
      "execution_count": null,
      "outputs": []
    },
    {
      "cell_type": "code",
      "source": [
        "!cp QA-Polyp/train/1-blurry/*.png QA-Polyp/train/1-blurry-aug"
      ],
      "metadata": {
        "id": "putyixzNJeBN"
      },
      "execution_count": null,
      "outputs": []
    },
    {
      "cell_type": "code",
      "source": [
        "!ls QA-Polyp/train/1-blurry-aug | wc -l"
      ],
      "metadata": {
        "colab": {
          "base_uri": "https://localhost:8080/"
        },
        "id": "W3jHrZTHJo1u",
        "outputId": "cc90ce43-0aed-4714-f337-77b1a3f81f89"
      },
      "execution_count": 8,
      "outputs": [
        {
          "output_type": "stream",
          "name": "stdout",
          "text": [
            "833\n"
          ]
        }
      ]
    },
    {
      "cell_type": "markdown",
      "source": [
        "# Data Augmentation for blurry images"
      ],
      "metadata": {
        "id": "X4yz7goSPuhT"
      }
    },
    {
      "cell_type": "code",
      "source": [
        "import numpy as np\n",
        "import os\n",
        "import cv2\n",
        "\n",
        "\n",
        "img_list = []\n",
        "INPUT_PATH = '/content/QA-Polyp/train/1-blurry'\n",
        "\n",
        "for file in os.listdir(INPUT_PATH):\n",
        "  img = cv2.imread(INPUT_PATH + '/' + file)\n",
        "  if img is not None:\n",
        "    img = cv2.resize(img, (300, 200))\n",
        "    img_list.append(img)\n",
        "\n",
        "img_arr = np.asarray(img_list)\n",
        "img_arr.shape"
      ],
      "metadata": {
        "colab": {
          "base_uri": "https://localhost:8080/"
        },
        "id": "8gQHDOkOJwi8",
        "outputId": "87f52075-78b0-4c53-8c41-7a1a4458097a"
      },
      "execution_count": null,
      "outputs": [
        {
          "output_type": "execute_result",
          "data": {
            "text/plain": [
              "(233, 200, 300, 3)"
            ]
          },
          "metadata": {},
          "execution_count": 15
        }
      ]
    },
    {
      "cell_type": "code",
      "source": [
        "from google.colab.patches import cv2_imshow\n",
        "\n",
        "cv2_imshow(img_arr[0])"
      ],
      "metadata": {
        "id": "SSjSoPDzLDcD"
      },
      "execution_count": null,
      "outputs": []
    },
    {
      "cell_type": "markdown",
      "source": [
        "# Horizontal Flip"
      ],
      "metadata": {
        "id": "sXCEnubWPRys"
      }
    },
    {
      "cell_type": "code",
      "source": [
        "from keras.preprocessing.image import load_img\n",
        "from keras.preprocessing.image import img_to_array\n",
        "from keras.preprocessing.image import ImageDataGenerator\n",
        "\n",
        "OUTPUT_PATH = '/content/QA-Polyp/train/1-blurry-aug'\n",
        "\n",
        "datagen = ImageDataGenerator(horizontal_flip=True)\n",
        "it = datagen.flow(img_arr[:100], batch_size=100)\n",
        "\n",
        "curr = 0\n",
        "\n",
        "batch = it.next()\n",
        "new_img_list = batch.astype('uint8')\n",
        "for img in new_img_list:\n",
        "  cv2.imwrite(OUTPUT_PATH + '/img_' + str(curr).zfill(4) + '.png', img)\n",
        "  curr += 1"
      ],
      "metadata": {
        "id": "_DENN-uiLI5o"
      },
      "execution_count": null,
      "outputs": []
    },
    {
      "cell_type": "markdown",
      "source": [
        "# Vertical Flip"
      ],
      "metadata": {
        "id": "LpJk5ZmVPovP"
      }
    },
    {
      "cell_type": "code",
      "source": [
        "datagen = ImageDataGenerator(vertical_flip=True)\n",
        "it = datagen.flow(img_arr[100:200], batch_size=100)\n",
        "\n",
        "batch = it.next()\n",
        "new_img_list = batch.astype('uint8')\n",
        "for img in new_img_list:\n",
        "  cv2.imwrite(OUTPUT_PATH + '/img_' + str(curr).zfill(4) + '.png', img)\n",
        "  curr += 1"
      ],
      "metadata": {
        "id": "dmbE1G3_PYUP"
      },
      "execution_count": null,
      "outputs": []
    },
    {
      "cell_type": "markdown",
      "source": [
        "# Random Rotation"
      ],
      "metadata": {
        "id": "ipSH1WJzQqJH"
      }
    },
    {
      "cell_type": "code",
      "source": [
        "curr = 200"
      ],
      "metadata": {
        "id": "zSFxhLUnRubH"
      },
      "execution_count": null,
      "outputs": []
    },
    {
      "cell_type": "code",
      "source": [
        "datagen = ImageDataGenerator(rotation_range=90)\n",
        "it = datagen.flow(img_arr, batch_size=200)\n",
        "\n",
        "batch = it.next()\n",
        "new_img_list = batch.astype('uint8')\n",
        "for img in new_img_list:\n",
        "  cv2.imwrite(OUTPUT_PATH + '/img_' + str(curr).zfill(4) + '.png', img)\n",
        "  curr += 1"
      ],
      "metadata": {
        "id": "7fmvWLL9QK_f"
      },
      "execution_count": null,
      "outputs": []
    },
    {
      "cell_type": "code",
      "source": [
        "curr"
      ],
      "metadata": {
        "colab": {
          "base_uri": "https://localhost:8080/"
        },
        "id": "WPwrdo0IRFp6",
        "outputId": "1fb7e535-f90a-4ef7-91f7-ee16b2f9cb03"
      },
      "execution_count": null,
      "outputs": [
        {
          "output_type": "execute_result",
          "data": {
            "text/plain": [
              "400"
            ]
          },
          "metadata": {},
          "execution_count": 26
        }
      ]
    },
    {
      "cell_type": "code",
      "source": [
        "!ls QA-Polyp/train/1-blurry-aug"
      ],
      "metadata": {
        "id": "P2EG6h5yRLJ2"
      },
      "execution_count": null,
      "outputs": []
    },
    {
      "cell_type": "code",
      "source": [
        "!rm QA-Polyp/train/1-blurry-aug/img_02*\n",
        "!rm QA-Polyp/train/1-blurry-aug/img_03*"
      ],
      "metadata": {
        "id": "gIORZ6-xRcP-"
      },
      "execution_count": null,
      "outputs": []
    },
    {
      "cell_type": "markdown",
      "source": [
        "# Random brightness"
      ],
      "metadata": {
        "id": "Gv8xUI6gSA3T"
      }
    },
    {
      "cell_type": "code",
      "source": [
        "datagen = ImageDataGenerator(brightness_range=[0.5, 1.5])\n",
        "it = datagen.flow(img_arr, batch_size=100)\n",
        "\n",
        "batch = it.next()\n",
        "new_img_list = batch.astype('uint8')\n",
        "for img in new_img_list:\n",
        "  cv2.imwrite(OUTPUT_PATH + '/img_' + str(curr).zfill(4) + '.png', img)\n",
        "  curr += 1"
      ],
      "metadata": {
        "id": "3gNuRS0dQ1v3"
      },
      "execution_count": null,
      "outputs": []
    },
    {
      "cell_type": "markdown",
      "source": [
        "# Random zoom"
      ],
      "metadata": {
        "id": "mYc7b-MhSOpe"
      }
    },
    {
      "cell_type": "code",
      "source": [
        "datagen = ImageDataGenerator(zoom_range=[0.5, 1.5])\n",
        "it = datagen.flow(img_arr, batch_size=100)\n",
        "\n",
        "batch = it.next()\n",
        "new_img_list = batch.astype('uint8')\n",
        "for img in new_img_list:\n",
        "  cv2.imwrite(OUTPUT_PATH + '/img_' + str(curr).zfill(4) + '.png', img)\n",
        "  curr += 1"
      ],
      "metadata": {
        "id": "Y2Zk1UYCSDea"
      },
      "execution_count": null,
      "outputs": []
    },
    {
      "cell_type": "code",
      "source": [
        "!zip -r QA-Polyp.zip QA-Polyp/"
      ],
      "metadata": {
        "id": "LWmKOx3oSR4H"
      },
      "execution_count": null,
      "outputs": []
    },
    {
      "cell_type": "code",
      "source": [
        "!cp QA-Polyp.zip drive/MyDrive"
      ],
      "metadata": {
        "id": "xmjXz6fxSuZU"
      },
      "execution_count": null,
      "outputs": []
    },
    {
      "cell_type": "code",
      "source": [
        "import numpy as np\n",
        "import os\n",
        "import cv2\n",
        "\n",
        "INPUT_PATH = '/content/QA-Polyp/train/1-blurry'\n",
        "\n",
        "input_list = []\n",
        "label_list = []\n",
        "INPUT_PATH = '/content/QA-Polyp/train'\n",
        "\n",
        "for file in os.listdir(INPUT_PATH + '/0-clear'):\n",
        "  img = cv2.imread(INPUT_PATH + '/0-clear/' + file)\n",
        "  if img is not None:\n",
        "    img = cv2.resize(img, (300, 200))\n",
        "    input_list.append(img)\n",
        "    label_list.append(0)\n",
        "\n",
        "for file in os.listdir(INPUT_PATH + '/1-blurry-aug'):\n",
        "  img = cv2.imread(INPUT_PATH + '/1-blurry-aug/' + file)\n",
        "  if img is not None:\n",
        "    img = cv2.resize(img, (300, 200))\n",
        "    input_list.append(img)\n",
        "    label_list.append(1)\n",
        "\n",
        "input_arr = np.array(input_list)\n",
        "label_arr = np.array(label_list)"
      ],
      "metadata": {
        "id": "Bf98cpWLTjcj"
      },
      "execution_count": 10,
      "outputs": []
    },
    {
      "cell_type": "code",
      "source": [
        "print(input_arr.shape)\n",
        "print(label_arr.shape)"
      ],
      "metadata": {
        "colab": {
          "base_uri": "https://localhost:8080/"
        },
        "id": "pllfzILCUGO_",
        "outputId": "4c7abf72-1ba7-44d5-97e9-56d20904f14d"
      },
      "execution_count": 11,
      "outputs": [
        {
          "output_type": "stream",
          "name": "stdout",
          "text": [
            "(1662, 200, 300, 3)\n",
            "(1662,)\n"
          ]
        }
      ]
    },
    {
      "cell_type": "code",
      "source": [
        "from sklearn.model_selection import train_test_split\n",
        "\n",
        "X_train, X_test, y_train, y_test = train_test_split(input_arr, label_arr, test_size=0.3, random_state=42)\n",
        "print(X_train.shape)"
      ],
      "metadata": {
        "colab": {
          "base_uri": "https://localhost:8080/"
        },
        "id": "vMAVaM2jVYNy",
        "outputId": "2ae22293-122a-4324-ba83-45723be9b73e"
      },
      "execution_count": 12,
      "outputs": [
        {
          "output_type": "stream",
          "name": "stdout",
          "text": [
            "(1163, 200, 300, 3)\n"
          ]
        }
      ]
    },
    {
      "cell_type": "code",
      "source": [
        "acc_per_fold = []\n",
        "loss_per_fold = []"
      ],
      "metadata": {
        "id": "_A3sx-RZWKa5"
      },
      "execution_count": 13,
      "outputs": []
    },
    {
      "cell_type": "code",
      "source": [
        "from sklearn.model_selection import KFold\n",
        "from tensorflow.keras.models import Sequential\n",
        "# import tensorflow as tf\n",
        "from tensorflow.keras.layers import Dense, Flatten\n",
        "from tensorflow.keras.optimizers import Adam\n",
        "from tensorflow.keras.applications import EfficientNetB0\n",
        "\n",
        "kfold = KFold(n_splits=5, shuffle=True)\n",
        "fold_no = 1\n",
        "for train, test in kfold.split(input_arr, label_arr):\n",
        "  resnet_model = Sequential()\n",
        "\n",
        "  pretrained_model= EfficientNetB0(include_top=False,\n",
        "                    input_shape=(200, 300, 3),\n",
        "                    pooling='avg',classes=2,\n",
        "                    weights='imagenet')\n",
        "  for layer in pretrained_model.layers:\n",
        "          layer.trainable=False\n",
        "\n",
        "  resnet_model.add(pretrained_model)\n",
        "\n",
        "  resnet_model.add(Flatten())\n",
        "  resnet_model.add(Dense(512, activation='relu'))\n",
        "  resnet_model.add(Dense(1, activation='sigmoid'))\n",
        "  resnet_model.compile(optimizer=Adam(lr=0.001),loss='binary_crossentropy',metrics=['accuracy'])\n",
        "\n",
        "  history = resnet_model.fit(input_arr[train], label_arr[train], epochs=20)\n",
        "\n",
        "  scores = resnet_model.evaluate(input_arr[test], label_arr[test])\n",
        "  acc_per_fold.append(scores[1] * 100)\n",
        "  loss_per_fold.append(scores[0])\n",
        "\n",
        "  fold_no = fold_no + 1"
      ],
      "metadata": {
        "id": "bq90JWKOWTgk"
      },
      "execution_count": null,
      "outputs": []
    },
    {
      "cell_type": "code",
      "source": [
        "print(acc_per_fold)"
      ],
      "metadata": {
        "id": "LStC4LLVccFB",
        "outputId": "4192bf81-20b7-4652-c8ad-5dac20120557",
        "colab": {
          "base_uri": "https://localhost:8080/"
        }
      },
      "execution_count": 16,
      "outputs": [
        {
          "output_type": "stream",
          "name": "stdout",
          "text": [
            "[96.99699878692627, 97.29729890823364, 96.6867446899414, 96.08433842658997, 97.28915691375732]\n"
          ]
        }
      ]
    },
    {
      "cell_type": "code",
      "source": [
        "pred = resnet_model.predict(X_test)"
      ],
      "metadata": {
        "id": "3M63xBCNcgH3"
      },
      "execution_count": 17,
      "outputs": []
    },
    {
      "cell_type": "code",
      "source": [
        "from matplotlib import pyplot as plt\n",
        "\n",
        "from sklearn.metrics import roc_curve, roc_auc_score\n",
        "from sklearn.metrics import auc\n",
        "\n",
        "fpr, tpr, thresholds = roc_curve(y_test, pred)\n",
        "\n",
        "auc_keras = auc(fpr, tpr)\n",
        "plt.ylabel('Sensitivity')\n",
        "plt.xlabel('Specificity')\n",
        "plt.title(\"ROC Curve - EfficientNet model\")\n",
        "plt.plot(fpr, tpr, marker='.', label='Neural Network (auc = %0.3f)' % auc_keras)"
      ],
      "metadata": {
        "id": "HWWELl6DcqLi",
        "outputId": "33be2ad1-cd3c-4ded-91e8-581b1025a22c",
        "colab": {
          "base_uri": "https://localhost:8080/",
          "height": 312
        }
      },
      "execution_count": 18,
      "outputs": [
        {
          "output_type": "execute_result",
          "data": {
            "text/plain": [
              "[<matplotlib.lines.Line2D at 0x7fc3a87889d0>]"
            ]
          },
          "metadata": {},
          "execution_count": 18
        },
        {
          "output_type": "display_data",
          "data": {
            "text/plain": [
              "<Figure size 432x288 with 1 Axes>"
            ],
            "image/png": "[encoded data removed]"
          },
          "metadata": {
            "needs_background": "light"
          }
        }
      ]
    },
    {
      "cell_type": "code",
      "source": [
        "print('roc_auc_score : ', roc_auc_score(y_test, pred))"
      ],
      "metadata": {
        "id": "mbArPfxTc3jU",
        "outputId": "1efd01d2-d22e-454e-dba0-7f4edb934de1",
        "colab": {
          "base_uri": "https://localhost:8080/"
        }
      },
      "execution_count": 19,
      "outputs": [
        {
          "output_type": "stream",
          "name": "stdout",
          "text": [
            "roc_auc_score :  0.9981338481338481\n"
          ]
        }
      ]
    }
  ]
}