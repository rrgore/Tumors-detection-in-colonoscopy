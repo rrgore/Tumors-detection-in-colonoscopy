{
  "nbformat": 4,
  "nbformat_minor": 0,
  "metadata": {
    "colab": {
      "name": "polyp_classification.ipynb",
      "provenance": [],
      "collapsed_sections": []
    },
    "kernelspec": {
      "name": "python3",
      "display_name": "Python 3"
    },
    "language_info": {
      "name": "python"
    },
    "accelerator": "GPU"
  },
  "cells": [
    {
      "cell_type": "code",
      "source": [
        "!unzip class-dataset.zip"
      ],
      "metadata": {
        "id": "yXgQCVRsrGk3"
      },
      "execution_count": null,
      "outputs": []
    },
    {
      "cell_type": "code",
      "source": [
        "!ls"
      ],
      "metadata": {
        "colab": {
          "base_uri": "https://localhost:8080/"
        },
        "id": "BR0PaMHprdEU",
        "outputId": "470a7ff0-bbab-414e-ad41-aed61b030777"
      },
      "execution_count": null,
      "outputs": [
        {
          "output_type": "stream",
          "name": "stdout",
          "text": [
            "class-dataset  class-dataset.zip  __MACOSX  sample_data\n"
          ]
        }
      ]
    },
    {
      "cell_type": "code",
      "execution_count": null,
      "metadata": {
        "id": "KHkNyC2ZhotB"
      },
      "outputs": [],
      "source": [
        "from tensorflow import keras\n",
        "from tensorflow.keras.preprocessing import image_dataset_from_directory\n",
        "import os\n",
        "import numpy as np\n",
        "import cv2"
      ]
    },
    {
      "cell_type": "code",
      "source": [
        "train_ds = image_dataset_from_directory(\n",
        "    'class-dataset',\n",
        "    labels='inferred',\n",
        "    batch_size=32,\n",
        "    image_size=(256, 256),\n",
        "    shuffle=True,\n",
        "    validation_split=0.3,\n",
        "    subset='training',\n",
        "    seed=1\n",
        ")"
      ],
      "metadata": {
        "colab": {
          "base_uri": "https://localhost:8080/"
        },
        "id": "PymW_Ck5rlpe",
        "outputId": "3723f252-181c-451e-b59a-f49ffe1e4bd5"
      },
      "execution_count": null,
      "outputs": [
        {
          "output_type": "stream",
          "name": "stdout",
          "text": [
            "Found 616 files belonging to 2 classes.\n",
            "Using 432 files for training.\n"
          ]
        }
      ]
    },
    {
      "cell_type": "code",
      "source": [
        "test_ds = image_dataset_from_directory(\n",
        "    'class-dataset',\n",
        "    labels='inferred',\n",
        "    batch_size=32,\n",
        "    image_size=(256, 256),\n",
        "    shuffle=True,\n",
        "    validation_split=0.3,\n",
        "    subset='validation',\n",
        "    seed=1\n",
        ")"
      ],
      "metadata": {
        "colab": {
          "base_uri": "https://localhost:8080/"
        },
        "id": "plLN9cZQszq6",
        "outputId": "3c800d35-4dd8-4588-fec8-30ee9e712176"
      },
      "execution_count": null,
      "outputs": [
        {
          "output_type": "stream",
          "name": "stdout",
          "text": [
            "Found 616 files belonging to 2 classes.\n",
            "Using 184 files for validation.\n"
          ]
        }
      ]
    },
    {
      "cell_type": "code",
      "source": [
        "from tensorflow.keras.models import Sequential\n",
        "import tensorflow as tf\n",
        "\n",
        "resnet_model = Sequential()\n",
        "\n",
        "pretrained_model= tf.keras.applications.resnet50.ResNet50(include_top=False,\n",
        "                   input_shape=(256, 256, 3),\n",
        "                   pooling='avg',classes=2,\n",
        "                   weights='imagenet')\n",
        "for layer in pretrained_model.layers:\n",
        "        layer.trainable=False\n",
        "\n",
        "resnet_model.add(pretrained_model)"
      ],
      "metadata": {
        "id": "mQQuO4fxta2N"
      },
      "execution_count": null,
      "outputs": []
    },
    {
      "cell_type": "code",
      "source": [
        "from tensorflow.keras.layers import Dense, Flatten\n",
        "\n",
        "resnet_model.add(Flatten())\n",
        "resnet_model.add(Dense(512, activation='relu'))\n",
        "resnet_model.add(Dense(1, activation='sigmoid'))"
      ],
      "metadata": {
        "id": "DTDnlU6JtriK"
      },
      "execution_count": null,
      "outputs": []
    },
    {
      "cell_type": "code",
      "source": [
        "from tensorflow.keras.optimizers import Adam\n",
        "\n",
        "\n",
        "resnet_model.compile(optimizer=Adam(lr=0.001),loss='binary_crossentropy',metrics=['accuracy'])\n",
        "\n",
        "history = resnet_model.fit(train_ds,\n",
        "                           epochs=10)"
      ],
      "metadata": {
        "colab": {
          "base_uri": "https://localhost:8080/"
        },
        "id": "78Daobybt3vO",
        "outputId": "817d8b54-55a2-4845-fd8a-e98a063b5a7b"
      },
      "execution_count": null,
      "outputs": [
        {
          "output_type": "stream",
          "name": "stdout",
          "text": [
            "Epoch 1/10\n"
          ]
        },
        {
          "output_type": "stream",
          "name": "stderr",
          "text": [
            "/usr/local/lib/python3.7/dist-packages/keras/optimizer_v2/adam.py:105: UserWarning: The `lr` argument is deprecated, use `learning_rate` instead.\n",
            "  super(Adam, self).__init__(name, **kwargs)\n"
          ]
        },
        {
          "output_type": "stream",
          "name": "stdout",
          "text": [
            "14/14 [==============================] - 17s 204ms/step - loss: 0.5133 - accuracy: 0.8519\n",
            "Epoch 2/10\n",
            "14/14 [==============================] - 4s 162ms/step - loss: 0.3069 - accuracy: 0.9190\n",
            "Epoch 3/10\n",
            "14/14 [==============================] - 4s 165ms/step - loss: 0.1147 - accuracy: 0.9537\n",
            "Epoch 4/10\n",
            "14/14 [==============================] - 4s 169ms/step - loss: 0.0854 - accuracy: 0.9676\n",
            "Epoch 5/10\n",
            "14/14 [==============================] - 4s 161ms/step - loss: 0.0608 - accuracy: 0.9722\n",
            "Epoch 6/10\n",
            "14/14 [==============================] - 4s 161ms/step - loss: 0.0460 - accuracy: 0.9838\n",
            "Epoch 7/10\n",
            "14/14 [==============================] - 4s 168ms/step - loss: 0.0437 - accuracy: 0.9815\n",
            "Epoch 8/10\n",
            "14/14 [==============================] - 4s 168ms/step - loss: 0.0518 - accuracy: 0.9745\n",
            "Epoch 9/10\n",
            "14/14 [==============================] - 4s 161ms/step - loss: 0.0759 - accuracy: 0.9630\n",
            "Epoch 10/10\n",
            "14/14 [==============================] - 4s 162ms/step - loss: 0.0316 - accuracy: 0.9884\n"
          ]
        }
      ]
    },
    {
      "cell_type": "code",
      "source": [
        "resnet_model.save('resnet_model_v2.h5')"
      ],
      "metadata": {
        "id": "Bkol1q2px-OU"
      },
      "execution_count": null,
      "outputs": []
    },
    {
      "cell_type": "code",
      "source": [
        "from google.colab import files\n",
        "\n",
        "files.download('resnet_model_v2.h5')"
      ],
      "metadata": {
        "colab": {
          "base_uri": "https://localhost:8080/",
          "height": 34
        },
        "id": "_99j3bIQySms",
        "outputId": "3def7890-65ee-4f14-d231-0e8da1241df6"
      },
      "execution_count": null,
      "outputs": [
        {
          "output_type": "display_data",
          "data": {
            "text/plain": [
              "<IPython.core.display.Javascript object>"
            ],
            "application/javascript": [
              "\n",
              "    async function download(id, filename, size) {\n",
              "      if (!google.colab.kernel.accessAllowed) {\n",
              "        return;\n",
              "      }\n",
              "      const div = document.createElement('div');\n",
              "      const label = document.createElement('label');\n",
              "      label.textContent = `Downloading \"${filename}\": `;\n",
              "      div.appendChild(label);\n",
              "      const progress = document.createElement('progress');\n",
              "      progress.max = size;\n",
              "      div.appendChild(progress);\n",
              "      document.body.appendChild(div);\n",
              "\n",
              "      const buffers = [];\n",
              "      let downloaded = 0;\n",
              "\n",
              "      const channel = await google.colab.kernel.comms.open(id);\n",
              "      // Send a message to notify the kernel that we're ready.\n",
              "      channel.send({})\n",
              "\n",
              "      for await (const message of channel.messages) {\n",
              "        // Send a message to notify the kernel that we're ready.\n",
              "        channel.send({})\n",
              "        if (message.buffers) {\n",
              "          for (const buffer of message.buffers) {\n",
              "            buffers.push(buffer);\n",
              "            downloaded += buffer.byteLength;\n",
              "            progress.value = downloaded;\n",
              "          }\n",
              "        }\n",
              "      }\n",
              "      const blob = new Blob(buffers, {type: 'application/binary'});\n",
              "      const a = document.createElement('a');\n",
              "      a.href = window.URL.createObjectURL(blob);\n",
              "      a.download = filename;\n",
              "      div.appendChild(a);\n",
              "      a.click();\n",
              "      div.remove();\n",
              "    }\n",
              "  "
            ]
          },
          "metadata": {}
        },
        {
          "output_type": "display_data",
          "data": {
            "text/plain": [
              "<IPython.core.display.Javascript object>"
            ],
            "application/javascript": [
              "download(\"download_00c7230d-6088-4ab6-8a61-fd0f7356b59c\", \"resnet_model_v2.h5\", 107287904)"
            ]
          },
          "metadata": {}
        }
      ]
    },
    {
      "cell_type": "markdown",
      "source": [
        "## Step 2: Using K-Fold cross sectioning"
      ],
      "metadata": {
        "id": "XUrYnWWAyk0z"
      }
    },
    {
      "cell_type": "code",
      "source": [
        "input_list = []\n",
        "label_list = []\n",
        "INPUT_PATH = '/content/class-dataset'\n",
        "\n",
        "for file in os.listdir(INPUT_PATH + '/0'):\n",
        "  img = cv2.imread(INPUT_PATH + '/0/' + file)\n",
        "  if img is not None:\n",
        "    img = cv2.resize(img, (480, 270))\n",
        "    input_list.append(img)\n",
        "    label_list.append(0)\n",
        "\n",
        "for file in os.listdir(INPUT_PATH + '/1'):\n",
        "  img = cv2.imread(INPUT_PATH + '/1/' + file)\n",
        "  if img is not None:\n",
        "    img = cv2.resize(img, (480, 270))\n",
        "    input_list.append(img)\n",
        "    label_list.append(1)"
      ],
      "metadata": {
        "id": "OvTIuVNDvtyd"
      },
      "execution_count": null,
      "outputs": []
    },
    {
      "cell_type": "code",
      "source": [
        "input_arr = np.array(input_list)\n",
        "label_arr = np.array(label_list)"
      ],
      "metadata": {
        "id": "3eaUSBlMzsjE"
      },
      "execution_count": null,
      "outputs": []
    },
    {
      "cell_type": "code",
      "source": [
        "print(input_arr.shape)\n",
        "print(label_arr.shape)"
      ],
      "metadata": {
        "colab": {
          "base_uri": "https://localhost:8080/"
        },
        "id": "uGJkqMRuzV26",
        "outputId": "059ebd44-ea06-434a-85d3-ab872a616f91"
      },
      "execution_count": null,
      "outputs": [
        {
          "output_type": "stream",
          "name": "stdout",
          "text": [
            "(1293, 270, 480, 3)\n",
            "(1293,)\n"
          ]
        }
      ]
    },
    {
      "cell_type": "code",
      "source": [
        "print(input_arr[0].shape)"
      ],
      "metadata": {
        "colab": {
          "base_uri": "https://localhost:8080/"
        },
        "id": "gtfsCyDbzibT",
        "outputId": "0179c9b8-ae33-4f8e-d18e-7392f2702c63"
      },
      "execution_count": null,
      "outputs": [
        {
          "output_type": "stream",
          "name": "stdout",
          "text": [
            "(256, 256, 3)\n"
          ]
        }
      ]
    },
    {
      "cell_type": "code",
      "source": [
        "from sklearn.model_selection import train_test_split\n",
        "\n",
        "X_train, X_test, y_train, y_test = train_test_split(input_arr, label_arr, test_size=0.3, random_state=42)\n",
        "print(X_train.shape)"
      ],
      "metadata": {
        "colab": {
          "base_uri": "https://localhost:8080/"
        },
        "id": "lmW6MA2m00m8",
        "outputId": "7e45495c-fd47-41f9-dd5b-b6150bc14c29"
      },
      "execution_count": null,
      "outputs": [
        {
          "output_type": "stream",
          "name": "stdout",
          "text": [
            "(431, 256, 256, 3)\n"
          ]
        }
      ]
    },
    {
      "cell_type": "code",
      "source": [
        "acc_per_fold = []\n",
        "loss_per_fold = []"
      ],
      "metadata": {
        "id": "6rBMCKBg2e2b"
      },
      "execution_count": null,
      "outputs": []
    },
    {
      "cell_type": "code",
      "source": [
        "from sklearn.model_selection import KFold\n",
        "from tensorflow.keras.models import Sequential\n",
        "import tensorflow as tf\n",
        "from tensorflow.keras.layers import Dense, Flatten\n",
        "from tensorflow.keras.optimizers import Adam\n",
        "\n",
        "kfold = KFold(n_splits=5, shuffle=True)\n",
        "fold_no = 1\n",
        "for train, test in kfold.split(input_arr, label_arr):\n",
        "  resnet_model = Sequential()\n",
        "\n",
        "  pretrained_model= tf.keras.applications.resnet50.ResNet50(include_top=False,\n",
        "                    input_shape=(270, 480, 3),\n",
        "                    pooling='avg',classes=2,\n",
        "                    weights='imagenet')\n",
        "  for layer in pretrained_model.layers:\n",
        "          layer.trainable=False\n",
        "\n",
        "  resnet_model.add(pretrained_model)\n",
        "\n",
        "  resnet_model.add(Flatten())\n",
        "  resnet_model.add(Dense(512, activation='relu'))\n",
        "  resnet_model.add(Dense(1, activation='sigmoid'))\n",
        "  resnet_model.compile(optimizer=Adam(lr=0.001),loss='binary_crossentropy',metrics=['accuracy'])\n",
        "\n",
        "  history = resnet_model.fit(input_arr[train], label_arr[train], epochs=20)\n",
        "\n",
        "  scores = resnet_model.evaluate(input_arr[test], label_arr[test])\n",
        "  acc_per_fold.append(scores[1] * 100)\n",
        "  loss_per_fold.append(scores[0])\n",
        "\n",
        "  fold_no = fold_no + 1"
      ],
      "metadata": {
        "id": "kkEkbU3j1QBW",
        "colab": {
          "base_uri": "https://localhost:8080/"
        },
        "outputId": "85f3d013-d73e-4703-bd2d-2d639452353f"
      },
      "execution_count": null,
      "outputs": [
        {
          "output_type": "stream",
          "name": "stderr",
          "text": [
            "/usr/local/lib/python3.7/dist-packages/keras/optimizer_v2/adam.py:105: UserWarning: The `lr` argument is deprecated, use `learning_rate` instead.\n",
            "  super(Adam, self).__init__(name, **kwargs)\n"
          ]
        },
        {
          "output_type": "stream",
          "name": "stdout",
          "text": [
            "Epoch 1/20\n",
            "33/33 [==============================] - 21s 511ms/step - loss: 0.4642 - accuracy: 0.8211\n",
            "Epoch 2/20\n",
            "33/33 [==============================] - 17s 511ms/step - loss: 0.2084 - accuracy: 0.9246\n",
            "Epoch 3/20\n",
            "33/33 [==============================] - 17s 510ms/step - loss: 0.1407 - accuracy: 0.9507\n",
            "Epoch 4/20\n",
            "33/33 [==============================] - 17s 509ms/step - loss: 0.1464 - accuracy: 0.9478\n",
            "Epoch 5/20\n",
            "33/33 [==============================] - 17s 509ms/step - loss: 0.1017 - accuracy: 0.9642\n",
            "Epoch 6/20\n",
            "33/33 [==============================] - 17s 512ms/step - loss: 0.1062 - accuracy: 0.9565\n",
            "Epoch 7/20\n",
            "33/33 [==============================] - 17s 513ms/step - loss: 0.0916 - accuracy: 0.9710\n",
            "Epoch 8/20\n",
            "33/33 [==============================] - 17s 514ms/step - loss: 0.0738 - accuracy: 0.9710\n",
            "Epoch 9/20\n",
            "33/33 [==============================] - 17s 514ms/step - loss: 0.0965 - accuracy: 0.9623\n",
            "Epoch 10/20\n",
            "33/33 [==============================] - 17s 514ms/step - loss: 0.1462 - accuracy: 0.9371\n",
            "Epoch 11/20\n",
            "33/33 [==============================] - 17s 514ms/step - loss: 0.0609 - accuracy: 0.9816\n",
            "Epoch 12/20\n",
            "33/33 [==============================] - 17s 514ms/step - loss: 0.0517 - accuracy: 0.9807\n",
            "Epoch 13/20\n",
            "33/33 [==============================] - 17s 514ms/step - loss: 0.0387 - accuracy: 0.9865\n",
            "Epoch 14/20\n",
            "33/33 [==============================] - 17s 514ms/step - loss: 0.0387 - accuracy: 0.9855\n",
            "Epoch 15/20\n",
            "33/33 [==============================] - 17s 513ms/step - loss: 0.0415 - accuracy: 0.9874\n",
            "Epoch 16/20\n",
            "33/33 [==============================] - 17s 513ms/step - loss: 0.0681 - accuracy: 0.9749\n",
            "Epoch 17/20\n",
            "33/33 [==============================] - 17s 513ms/step - loss: 0.0899 - accuracy: 0.9700\n",
            "Epoch 18/20\n",
            "33/33 [==============================] - 17s 514ms/step - loss: 0.0323 - accuracy: 0.9894\n",
            "Epoch 19/20\n",
            "33/33 [==============================] - 17s 514ms/step - loss: 0.0263 - accuracy: 0.9923\n",
            "Epoch 20/20\n",
            "33/33 [==============================] - 17s 513ms/step - loss: 0.0233 - accuracy: 0.9923\n",
            "9/9 [==============================] - 5s 469ms/step - loss: 0.0650 - accuracy: 0.9653\n",
            "Epoch 1/20\n",
            "33/33 [==============================] - 21s 513ms/step - loss: 0.5449 - accuracy: 0.7843\n",
            "Epoch 2/20\n",
            "33/33 [==============================] - 17s 515ms/step - loss: 0.2080 - accuracy: 0.9226\n",
            "Epoch 3/20\n",
            "33/33 [==============================] - 17s 514ms/step - loss: 0.1539 - accuracy: 0.9487\n",
            "Epoch 4/20\n",
            "33/33 [==============================] - 17s 514ms/step - loss: 0.1621 - accuracy: 0.9371\n",
            "Epoch 5/20\n",
            "33/33 [==============================] - 17s 515ms/step - loss: 0.1071 - accuracy: 0.9642\n",
            "Epoch 6/20\n",
            "33/33 [==============================] - 17s 514ms/step - loss: 0.0953 - accuracy: 0.9700\n",
            "Epoch 7/20\n",
            "33/33 [==============================] - 17s 514ms/step - loss: 0.1088 - accuracy: 0.9652\n",
            "Epoch 8/20\n",
            "33/33 [==============================] - 17s 513ms/step - loss: 0.1012 - accuracy: 0.9574\n",
            "Epoch 9/20\n",
            "33/33 [==============================] - 17s 514ms/step - loss: 0.0860 - accuracy: 0.9749\n",
            "Epoch 10/20\n",
            "33/33 [==============================] - 17s 514ms/step - loss: 0.0491 - accuracy: 0.9787\n",
            "Epoch 11/20\n",
            "33/33 [==============================] - 17s 515ms/step - loss: 0.0627 - accuracy: 0.9778\n",
            "Epoch 12/20\n",
            "33/33 [==============================] - 17s 514ms/step - loss: 0.0679 - accuracy: 0.9749\n",
            "Epoch 13/20\n",
            "33/33 [==============================] - 17s 514ms/step - loss: 0.1335 - accuracy: 0.9468\n",
            "Epoch 14/20\n",
            "33/33 [==============================] - 17s 514ms/step - loss: 0.0740 - accuracy: 0.9720\n",
            "Epoch 15/20\n",
            "33/33 [==============================] - 17s 513ms/step - loss: 0.0300 - accuracy: 0.9903\n",
            "Epoch 16/20\n",
            "33/33 [==============================] - 17s 514ms/step - loss: 0.0237 - accuracy: 0.9923\n",
            "Epoch 17/20\n",
            "33/33 [==============================] - 17s 513ms/step - loss: 0.0218 - accuracy: 0.9961\n",
            "Epoch 18/20\n",
            "33/33 [==============================] - 17s 513ms/step - loss: 0.0159 - accuracy: 0.9990\n",
            "Epoch 19/20\n",
            "33/33 [==============================] - 17s 514ms/step - loss: 0.0147 - accuracy: 0.9990\n",
            "Epoch 20/20\n",
            "33/33 [==============================] - 17s 513ms/step - loss: 0.0156 - accuracy: 0.9971\n",
            "9/9 [==============================] - 6s 469ms/step - loss: 0.1460 - accuracy: 0.9614\n",
            "Epoch 1/20\n",
            "33/33 [==============================] - 21s 517ms/step - loss: 0.4048 - accuracy: 0.8317\n",
            "Epoch 2/20\n",
            "33/33 [==============================] - 17s 517ms/step - loss: 0.2930 - accuracy: 0.8801\n",
            "Epoch 3/20\n",
            "33/33 [==============================] - 17s 516ms/step - loss: 0.1907 - accuracy: 0.9207\n",
            "Epoch 4/20\n",
            "33/33 [==============================] - 17s 514ms/step - loss: 0.1351 - accuracy: 0.9555\n",
            "Epoch 5/20\n",
            "33/33 [==============================] - 17s 514ms/step - loss: 0.0975 - accuracy: 0.9623\n",
            "Epoch 6/20\n",
            "33/33 [==============================] - 17s 515ms/step - loss: 0.0850 - accuracy: 0.9710\n",
            "Epoch 7/20\n",
            "33/33 [==============================] - 17s 513ms/step - loss: 0.0838 - accuracy: 0.9710\n",
            "Epoch 8/20\n",
            "33/33 [==============================] - 17s 514ms/step - loss: 0.0682 - accuracy: 0.9778\n",
            "Epoch 9/20\n",
            "33/33 [==============================] - 17s 513ms/step - loss: 0.0774 - accuracy: 0.9749\n",
            "Epoch 10/20\n",
            "33/33 [==============================] - 17s 514ms/step - loss: 0.1014 - accuracy: 0.9613\n",
            "Epoch 11/20\n",
            "33/33 [==============================] - 17s 513ms/step - loss: 0.0760 - accuracy: 0.9739\n",
            "Epoch 12/20\n",
            "33/33 [==============================] - 17s 513ms/step - loss: 0.0471 - accuracy: 0.9845\n",
            "Epoch 13/20\n",
            "33/33 [==============================] - 17s 513ms/step - loss: 0.0369 - accuracy: 0.9874\n",
            "Epoch 14/20\n",
            "33/33 [==============================] - 17s 513ms/step - loss: 0.0322 - accuracy: 0.9894\n",
            "Epoch 15/20\n",
            "33/33 [==============================] - 17s 513ms/step - loss: 0.0380 - accuracy: 0.9845\n",
            "Epoch 16/20\n",
            "33/33 [==============================] - 17s 516ms/step - loss: 0.0307 - accuracy: 0.9894\n",
            "Epoch 17/20\n",
            "33/33 [==============================] - 17s 513ms/step - loss: 0.0298 - accuracy: 0.9942\n",
            "Epoch 18/20\n",
            "33/33 [==============================] - 17s 513ms/step - loss: 0.0678 - accuracy: 0.9710\n",
            "Epoch 19/20\n",
            "33/33 [==============================] - 17s 513ms/step - loss: 0.0412 - accuracy: 0.9855\n",
            "Epoch 20/20\n",
            "33/33 [==============================] - 17s 513ms/step - loss: 0.0232 - accuracy: 0.9932\n",
            "9/9 [==============================] - 5s 469ms/step - loss: 0.1806 - accuracy: 0.9421\n",
            "Epoch 1/20\n",
            "33/33 [==============================] - 21s 518ms/step - loss: 0.5902 - accuracy: 0.7739\n",
            "Epoch 2/20\n",
            "33/33 [==============================] - 17s 517ms/step - loss: 0.2379 - accuracy: 0.8976\n",
            "Epoch 3/20\n",
            "33/33 [==============================] - 17s 516ms/step - loss: 0.1709 - accuracy: 0.9362\n",
            "Epoch 4/20\n",
            "33/33 [==============================] - 17s 516ms/step - loss: 0.1399 - accuracy: 0.9498\n",
            "Epoch 5/20\n",
            "33/33 [==============================] - 17s 515ms/step - loss: 0.1332 - accuracy: 0.9420\n",
            "Epoch 6/20\n",
            "33/33 [==============================] - 17s 515ms/step - loss: 0.1150 - accuracy: 0.9633\n",
            "Epoch 7/20\n",
            "33/33 [==============================] - 17s 514ms/step - loss: 0.1062 - accuracy: 0.9585\n",
            "Epoch 8/20\n",
            "33/33 [==============================] - 17s 514ms/step - loss: 0.0887 - accuracy: 0.9662\n",
            "Epoch 9/20\n",
            "33/33 [==============================] - 17s 515ms/step - loss: 0.0655 - accuracy: 0.9836\n",
            "Epoch 10/20\n",
            "33/33 [==============================] - 17s 515ms/step - loss: 0.0790 - accuracy: 0.9720\n",
            "Epoch 11/20\n",
            "33/33 [==============================] - 17s 514ms/step - loss: 0.0614 - accuracy: 0.9816\n",
            "Epoch 12/20\n",
            "33/33 [==============================] - 17s 513ms/step - loss: 0.0703 - accuracy: 0.9720\n",
            "Epoch 13/20\n",
            "33/33 [==============================] - 17s 515ms/step - loss: 0.0617 - accuracy: 0.9816\n",
            "Epoch 14/20\n",
            "33/33 [==============================] - 17s 514ms/step - loss: 0.0410 - accuracy: 0.9874\n",
            "Epoch 15/20\n",
            "33/33 [==============================] - 17s 515ms/step - loss: 0.0417 - accuracy: 0.9894\n",
            "Epoch 16/20\n",
            "33/33 [==============================] - 17s 514ms/step - loss: 0.0263 - accuracy: 0.9942\n",
            "Epoch 17/20\n",
            "33/33 [==============================] - 17s 514ms/step - loss: 0.0228 - accuracy: 0.9932\n",
            "Epoch 18/20\n",
            "33/33 [==============================] - 17s 514ms/step - loss: 0.0194 - accuracy: 0.9952\n",
            "Epoch 19/20\n",
            "33/33 [==============================] - 17s 514ms/step - loss: 0.0205 - accuracy: 0.9981\n",
            "Epoch 20/20\n",
            "33/33 [==============================] - 17s 514ms/step - loss: 0.0162 - accuracy: 0.9971\n",
            "9/9 [==============================] - 5s 462ms/step - loss: 0.1606 - accuracy: 0.9380\n",
            "Epoch 1/20\n",
            "33/33 [==============================] - 21s 517ms/step - loss: 0.4424 - accuracy: 0.8087\n",
            "Epoch 2/20\n",
            "33/33 [==============================] - 17s 517ms/step - loss: 0.2048 - accuracy: 0.9266\n",
            "Epoch 3/20\n",
            "33/33 [==============================] - 17s 517ms/step - loss: 0.1609 - accuracy: 0.9391\n",
            "Epoch 4/20\n",
            "33/33 [==============================] - 17s 515ms/step - loss: 0.1298 - accuracy: 0.9546\n",
            "Epoch 5/20\n",
            "33/33 [==============================] - 17s 515ms/step - loss: 0.1318 - accuracy: 0.9498\n",
            "Epoch 6/20\n",
            "33/33 [==============================] - 17s 515ms/step - loss: 0.1383 - accuracy: 0.9498\n",
            "Epoch 7/20\n",
            "33/33 [==============================] - 17s 515ms/step - loss: 0.0929 - accuracy: 0.9643\n",
            "Epoch 8/20\n",
            "33/33 [==============================] - 17s 515ms/step - loss: 0.0664 - accuracy: 0.9739\n",
            "Epoch 9/20\n",
            "33/33 [==============================] - 17s 514ms/step - loss: 0.0513 - accuracy: 0.9826\n",
            "Epoch 10/20\n",
            "33/33 [==============================] - 17s 514ms/step - loss: 0.0535 - accuracy: 0.9836\n",
            "Epoch 11/20\n",
            "33/33 [==============================] - 17s 514ms/step - loss: 0.0376 - accuracy: 0.9932\n",
            "Epoch 12/20\n",
            "33/33 [==============================] - 17s 514ms/step - loss: 0.0414 - accuracy: 0.9855\n",
            "Epoch 13/20\n",
            "33/33 [==============================] - 17s 513ms/step - loss: 0.0392 - accuracy: 0.9865\n",
            "Epoch 14/20\n",
            "33/33 [==============================] - 17s 514ms/step - loss: 0.0347 - accuracy: 0.9913\n",
            "Epoch 15/20\n",
            "33/33 [==============================] - 17s 514ms/step - loss: 0.0305 - accuracy: 0.9923\n",
            "Epoch 16/20\n",
            "33/33 [==============================] - 17s 515ms/step - loss: 0.0244 - accuracy: 0.9942\n",
            "Epoch 17/20\n",
            "33/33 [==============================] - 17s 515ms/step - loss: 0.0221 - accuracy: 0.9942\n",
            "Epoch 18/20\n",
            "33/33 [==============================] - 17s 514ms/step - loss: 0.0405 - accuracy: 0.9884\n",
            "Epoch 19/20\n",
            "33/33 [==============================] - 17s 514ms/step - loss: 0.0448 - accuracy: 0.9865\n",
            "Epoch 20/20\n",
            "33/33 [==============================] - 17s 513ms/step - loss: 0.0495 - accuracy: 0.9816\n",
            "9/9 [==============================] - 5s 468ms/step - loss: 0.2026 - accuracy: 0.9147\n"
          ]
        }
      ]
    },
    {
      "cell_type": "code",
      "source": [
        "print(np.mean(acc_per_fold))"
      ],
      "metadata": {
        "colab": {
          "base_uri": "https://localhost:8080/"
        },
        "id": "mOJsXrdA3KL7",
        "outputId": "fabbb1da-1383-457d-b10c-1034d353184c"
      },
      "execution_count": null,
      "outputs": [
        {
          "output_type": "stream",
          "name": "stdout",
          "text": [
            "95.58977484703064\n"
          ]
        }
      ]
    },
    {
      "cell_type": "code",
      "source": [
        "from google.colab.patches import cv2_imshow\n",
        "\n",
        "cv2_imshow(input_arr[0])"
      ],
      "metadata": {
        "colab": {
          "base_uri": "https://localhost:8080/",
          "height": 287
        },
        "id": "psLR84jC40TY",
        "outputId": "0bf861f6-919c-4a7c-f80a-b1fca0fb676f"
      },
      "execution_count": null,
      "outputs": [
        {
          "output_type": "display_data",
          "data": {
            "text/plain": [
              "<PIL.Image.Image image mode=RGB size=480x270 at 0x7F5E3DFBC750>"
            ],
            "image/png": "[encoded data removed]"
          },
          "metadata": {}
        }
      ]
    },
    {
      "cell_type": "code",
      "source": [
        "print(resnet_model(X_test[0:1]))"
      ],
      "metadata": {
        "colab": {
          "base_uri": "https://localhost:8080/"
        },
        "id": "ZUxC4h4G52bK",
        "outputId": "cea9e80d-bedb-441d-e50a-910341141a68"
      },
      "execution_count": null,
      "outputs": [
        {
          "output_type": "stream",
          "name": "stdout",
          "text": [
            "tf.Tensor([[0.00015498]], shape=(1, 1), dtype=float32)\n"
          ]
        }
      ]
    },
    {
      "cell_type": "markdown",
      "source": [
        "## Step 3: K-cross validation + Train last 2 layers"
      ],
      "metadata": {
        "id": "cEDgtQafy0wY"
      }
    },
    {
      "cell_type": "code",
      "source": [
        "input_list = []\n",
        "label_list = []\n",
        "INPUT_PATH = '/content/class-dataset'\n",
        "\n",
        "for file in os.listdir(INPUT_PATH + '/0'):\n",
        "  img = cv2.imread(INPUT_PATH + '/0/' + file)\n",
        "  if img is not None:\n",
        "    img = cv2.resize(img, (480, 270))\n",
        "    input_list.append(img)\n",
        "    label_list.append(0)\n",
        "\n",
        "for file in os.listdir(INPUT_PATH + '/1'):\n",
        "  img = cv2.imread(INPUT_PATH + '/1/' + file)\n",
        "  if img is not None:\n",
        "    img = cv2.resize(img, (480, 270))\n",
        "    input_list.append(img)\n",
        "    label_list.append(1)"
      ],
      "metadata": {
        "id": "a-LzCPw0zBPn"
      },
      "execution_count": null,
      "outputs": []
    },
    {
      "cell_type": "code",
      "source": [
        "input_arr = np.array(input_list)\n",
        "label_arr = np.array(label_list)"
      ],
      "metadata": {
        "id": "RDJkQE0wzWZb"
      },
      "execution_count": null,
      "outputs": []
    },
    {
      "cell_type": "code",
      "source": [
        "print(input_arr.shape)\n",
        "print(label_arr.shape)"
      ],
      "metadata": {
        "colab": {
          "base_uri": "https://localhost:8080/"
        },
        "id": "2p_2Jd8_zZwq",
        "outputId": "c728334c-6837-4f33-85ec-e348dc985336"
      },
      "execution_count": null,
      "outputs": [
        {
          "output_type": "stream",
          "name": "stdout",
          "text": [
            "(1293, 270, 480, 3)\n",
            "(1293,)\n"
          ]
        }
      ]
    },
    {
      "cell_type": "code",
      "source": [
        "# from sklearn.model_selection import train_test_split\n",
        "\n",
        "# X_train, X_test, y_train, y_test = train_test_split(input_arr, label_arr, test_size=0.3, random_state=42)\n",
        "# print(X_train.shape)\n",
        "\n",
        "acc_per_fold = []\n",
        "loss_per_fold = []"
      ],
      "metadata": {
        "id": "s5YOZxDyzeGh"
      },
      "execution_count": null,
      "outputs": []
    },
    {
      "cell_type": "code",
      "source": [
        "from sklearn.model_selection import KFold\n",
        "from tensorflow.keras.models import Sequential\n",
        "import tensorflow as tf\n",
        "from tensorflow.keras.layers import Dense, Flatten\n",
        "from tensorflow.keras.optimizers import Adam\n",
        "\n",
        "kfold = KFold(n_splits=5, shuffle=True)\n",
        "fold_no = 1\n",
        "for train, test in kfold.split(input_arr, label_arr):\n",
        "  resnet_model = Sequential()\n",
        "\n",
        "  pretrained_model= tf.keras.applications.resnet50.ResNet50(include_top=False,\n",
        "                    input_shape=(270, 480, 3),\n",
        "                    pooling='avg',classes=2,\n",
        "                    weights='imagenet')\n",
        "  for layer in pretrained_model.layers[:-5]:\n",
        "    layer.trainable=False  \n",
        "\n",
        "  resnet_model.add(pretrained_model)\n",
        "\n",
        "  resnet_model.add(Flatten())\n",
        "  resnet_model.add(Dense(512, activation='relu'))\n",
        "  resnet_model.add(Dense(1, activation='sigmoid'))\n",
        "\n",
        "  print(resnet_model.summary())\n",
        "\n",
        "  resnet_model.compile(optimizer=Adam(lr=0.001),loss='binary_crossentropy',metrics=['accuracy'])\n",
        "\n",
        "  history = resnet_model.fit(input_arr[train], label_arr[train], epochs=20)\n",
        "\n",
        "  scores = resnet_model.evaluate(input_arr[test], label_arr[test])\n",
        "  acc_per_fold.append(scores[1] * 100)\n",
        "  loss_per_fold.append(scores[0])\n",
        "\n",
        "  fold_no = fold_no + 1"
      ],
      "metadata": {
        "colab": {
          "base_uri": "https://localhost:8080/"
        },
        "id": "dCxLRLFyzlil",
        "outputId": "65366a6b-20f0-41e0-963a-d79bb240c584"
      },
      "execution_count": null,
      "outputs": [
        {
          "output_type": "stream",
          "name": "stdout",
          "text": [
            "Model: \"sequential_6\"\n",
            "_________________________________________________________________\n",
            " Layer (type)                Output Shape              Param #   \n",
            "=================================================================\n",
            " resnet50 (Functional)       (None, 2048)              23587712  \n",
            "                                                                 \n",
            " flatten_6 (Flatten)         (None, 2048)              0         \n",
            "                                                                 \n",
            " dense_12 (Dense)            (None, 512)               1049088   \n",
            "                                                                 \n",
            " dense_13 (Dense)            (None, 1)                 513       \n",
            "                                                                 \n",
            "=================================================================\n",
            "Total params: 24,637,313\n",
            "Trainable params: 2,104,321\n",
            "Non-trainable params: 22,532,992\n",
            "_________________________________________________________________\n",
            "None\n"
          ]
        },
        {
          "output_type": "stream",
          "name": "stderr",
          "text": [
            "/usr/local/lib/python3.7/dist-packages/keras/optimizer_v2/adam.py:105: UserWarning: The `lr` argument is deprecated, use `learning_rate` instead.\n",
            "  super(Adam, self).__init__(name, **kwargs)\n"
          ]
        },
        {
          "output_type": "stream",
          "name": "stdout",
          "text": [
            "Epoch 1/20\n",
            "33/33 [==============================] - 24s 523ms/step - loss: 0.5493 - accuracy: 0.8037\n",
            "Epoch 2/20\n",
            "33/33 [==============================] - 16s 479ms/step - loss: 0.1335 - accuracy: 0.9526\n",
            "Epoch 3/20\n",
            "33/33 [==============================] - 16s 480ms/step - loss: 0.0679 - accuracy: 0.9758\n",
            "Epoch 4/20\n",
            "33/33 [==============================] - 16s 480ms/step - loss: 0.0763 - accuracy: 0.9642\n",
            "Epoch 5/20\n",
            "33/33 [==============================] - 16s 481ms/step - loss: 0.0388 - accuracy: 0.9865\n",
            "Epoch 6/20\n",
            "33/33 [==============================] - 16s 481ms/step - loss: 0.0386 - accuracy: 0.9826\n",
            "Epoch 7/20\n",
            "33/33 [==============================] - 16s 481ms/step - loss: 0.0604 - accuracy: 0.9758\n",
            "Epoch 8/20\n",
            "33/33 [==============================] - 16s 479ms/step - loss: 0.0262 - accuracy: 0.9894\n",
            "Epoch 9/20\n",
            "33/33 [==============================] - 16s 481ms/step - loss: 0.0165 - accuracy: 0.9952\n",
            "Epoch 10/20\n",
            "33/33 [==============================] - 16s 481ms/step - loss: 0.0071 - accuracy: 0.9990\n",
            "Epoch 11/20\n",
            "33/33 [==============================] - 16s 482ms/step - loss: 0.0030 - accuracy: 1.0000\n",
            "Epoch 12/20\n",
            "33/33 [==============================] - 16s 481ms/step - loss: 0.0048 - accuracy: 0.9990\n",
            "Epoch 13/20\n",
            "33/33 [==============================] - 16s 481ms/step - loss: 0.0051 - accuracy: 0.9990\n",
            "Epoch 14/20\n",
            "33/33 [==============================] - 16s 480ms/step - loss: 0.0105 - accuracy: 0.9971\n",
            "Epoch 15/20\n",
            "33/33 [==============================] - 16s 480ms/step - loss: 0.0070 - accuracy: 0.9981\n",
            "Epoch 16/20\n",
            "33/33 [==============================] - 16s 481ms/step - loss: 0.0042 - accuracy: 0.9981\n",
            "Epoch 17/20\n",
            "33/33 [==============================] - 16s 481ms/step - loss: 0.0064 - accuracy: 0.9981\n",
            "Epoch 18/20\n",
            "33/33 [==============================] - 16s 481ms/step - loss: 0.0012 - accuracy: 1.0000\n",
            "Epoch 19/20\n",
            "33/33 [==============================] - 16s 480ms/step - loss: 3.9838e-04 - accuracy: 1.0000\n",
            "Epoch 20/20\n",
            "33/33 [==============================] - 16s 479ms/step - loss: 4.3243e-04 - accuracy: 1.0000\n",
            "9/9 [==============================] - 6s 557ms/step - loss: 0.1674 - accuracy: 0.9653\n",
            "Model: \"sequential_7\"\n",
            "_________________________________________________________________\n",
            " Layer (type)                Output Shape              Param #   \n",
            "=================================================================\n",
            " resnet50 (Functional)       (None, 2048)              23587712  \n",
            "                                                                 \n",
            " flatten_7 (Flatten)         (None, 2048)              0         \n",
            "                                                                 \n",
            " dense_14 (Dense)            (None, 512)               1049088   \n",
            "                                                                 \n",
            " dense_15 (Dense)            (None, 1)                 513       \n",
            "                                                                 \n",
            "=================================================================\n",
            "Total params: 24,637,313\n",
            "Trainable params: 2,104,321\n",
            "Non-trainable params: 22,532,992\n",
            "_________________________________________________________________\n",
            "None\n",
            "Epoch 1/20\n",
            "33/33 [==============================] - 20s 482ms/step - loss: 0.4452 - accuracy: 0.8462\n",
            "Epoch 2/20\n",
            "33/33 [==============================] - 16s 480ms/step - loss: 0.1134 - accuracy: 0.9574\n",
            "Epoch 3/20\n",
            "33/33 [==============================] - 16s 480ms/step - loss: 0.0796 - accuracy: 0.9691\n",
            "Epoch 4/20\n",
            "33/33 [==============================] - 16s 482ms/step - loss: 0.0431 - accuracy: 0.9845\n",
            "Epoch 5/20\n",
            "33/33 [==============================] - 16s 480ms/step - loss: 0.0321 - accuracy: 0.9903\n",
            "Epoch 6/20\n",
            "33/33 [==============================] - 16s 480ms/step - loss: 0.0503 - accuracy: 0.9836\n",
            "Epoch 7/20\n",
            "33/33 [==============================] - 16s 480ms/step - loss: 0.0345 - accuracy: 0.9874\n",
            "Epoch 8/20\n",
            "33/33 [==============================] - 16s 481ms/step - loss: 0.0165 - accuracy: 0.9932\n",
            "Epoch 9/20\n",
            "33/33 [==============================] - 16s 481ms/step - loss: 0.0083 - accuracy: 0.9981\n",
            "Epoch 10/20\n",
            "33/33 [==============================] - 16s 480ms/step - loss: 0.0024 - accuracy: 1.0000\n",
            "Epoch 11/20\n",
            "33/33 [==============================] - 16s 480ms/step - loss: 0.0012 - accuracy: 1.0000\n",
            "Epoch 12/20\n",
            "33/33 [==============================] - 16s 480ms/step - loss: 0.0013 - accuracy: 1.0000\n",
            "Epoch 13/20\n",
            "33/33 [==============================] - 16s 481ms/step - loss: 0.0033 - accuracy: 1.0000\n",
            "Epoch 14/20\n",
            "33/33 [==============================] - 16s 481ms/step - loss: 0.0021 - accuracy: 1.0000\n",
            "Epoch 15/20\n",
            "33/33 [==============================] - 16s 481ms/step - loss: 0.0019 - accuracy: 0.9990\n",
            "Epoch 16/20\n",
            "33/33 [==============================] - 16s 482ms/step - loss: 0.0103 - accuracy: 0.9971\n",
            "Epoch 17/20\n",
            "33/33 [==============================] - 16s 480ms/step - loss: 0.0298 - accuracy: 0.9932\n",
            "Epoch 18/20\n",
            "33/33 [==============================] - 16s 480ms/step - loss: 0.0125 - accuracy: 0.9952\n",
            "Epoch 19/20\n",
            "33/33 [==============================] - 16s 480ms/step - loss: 0.0187 - accuracy: 0.9932\n",
            "Epoch 20/20\n",
            "33/33 [==============================] - 16s 480ms/step - loss: 0.0119 - accuracy: 0.9961\n",
            "9/9 [==============================] - 5s 433ms/step - loss: 0.2988 - accuracy: 0.9653\n",
            "Model: \"sequential_8\"\n",
            "_________________________________________________________________\n",
            " Layer (type)                Output Shape              Param #   \n",
            "=================================================================\n",
            " resnet50 (Functional)       (None, 2048)              23587712  \n",
            "                                                                 \n",
            " flatten_8 (Flatten)         (None, 2048)              0         \n",
            "                                                                 \n",
            " dense_16 (Dense)            (None, 512)               1049088   \n",
            "                                                                 \n",
            " dense_17 (Dense)            (None, 1)                 513       \n",
            "                                                                 \n",
            "=================================================================\n",
            "Total params: 24,637,313\n",
            "Trainable params: 2,104,321\n",
            "Non-trainable params: 22,532,992\n",
            "_________________________________________________________________\n",
            "None\n",
            "Epoch 1/20\n",
            "33/33 [==============================] - 20s 483ms/step - loss: 0.5406 - accuracy: 0.8201\n",
            "Epoch 2/20\n",
            "33/33 [==============================] - 16s 480ms/step - loss: 0.1358 - accuracy: 0.9565\n",
            "Epoch 3/20\n",
            "33/33 [==============================] - 16s 480ms/step - loss: 0.0775 - accuracy: 0.9729\n",
            "Epoch 4/20\n",
            "33/33 [==============================] - 16s 480ms/step - loss: 0.0493 - accuracy: 0.9855\n",
            "Epoch 5/20\n",
            "33/33 [==============================] - 16s 480ms/step - loss: 0.0421 - accuracy: 0.9874\n",
            "Epoch 6/20\n",
            "33/33 [==============================] - 16s 480ms/step - loss: 0.0272 - accuracy: 0.9913\n",
            "Epoch 7/20\n",
            "33/33 [==============================] - 16s 481ms/step - loss: 0.0185 - accuracy: 0.9952\n",
            "Epoch 8/20\n",
            "33/33 [==============================] - 16s 481ms/step - loss: 0.0252 - accuracy: 0.9913\n",
            "Epoch 9/20\n",
            "33/33 [==============================] - 16s 480ms/step - loss: 0.0184 - accuracy: 0.9952\n",
            "Epoch 10/20\n",
            "33/33 [==============================] - 16s 480ms/step - loss: 0.0162 - accuracy: 0.9961\n",
            "Epoch 11/20\n",
            "33/33 [==============================] - 16s 480ms/step - loss: 0.0085 - accuracy: 0.9981\n",
            "Epoch 12/20\n",
            "33/33 [==============================] - 16s 481ms/step - loss: 0.0064 - accuracy: 0.9990\n",
            "Epoch 13/20\n",
            "33/33 [==============================] - 16s 480ms/step - loss: 0.0157 - accuracy: 0.9971\n",
            "Epoch 14/20\n",
            "33/33 [==============================] - 16s 480ms/step - loss: 0.0213 - accuracy: 0.9942\n",
            "Epoch 15/20\n",
            "33/33 [==============================] - 16s 481ms/step - loss: 0.0201 - accuracy: 0.9932\n",
            "Epoch 16/20\n",
            "33/33 [==============================] - 16s 480ms/step - loss: 0.0134 - accuracy: 0.9961\n",
            "Epoch 17/20\n",
            "33/33 [==============================] - 16s 481ms/step - loss: 0.0063 - accuracy: 0.9981\n",
            "Epoch 18/20\n",
            "33/33 [==============================] - 16s 481ms/step - loss: 0.0021 - accuracy: 1.0000\n",
            "Epoch 19/20\n",
            "33/33 [==============================] - 16s 481ms/step - loss: 0.0108 - accuracy: 0.9961\n",
            "Epoch 20/20\n",
            "33/33 [==============================] - 16s 482ms/step - loss: 0.0678 - accuracy: 0.9778\n",
            "9/9 [==============================] - 5s 436ms/step - loss: 0.5994 - accuracy: 0.8378\n",
            "Model: \"sequential_9\"\n",
            "_________________________________________________________________\n",
            " Layer (type)                Output Shape              Param #   \n",
            "=================================================================\n",
            " resnet50 (Functional)       (None, 2048)              23587712  \n",
            "                                                                 \n",
            " flatten_9 (Flatten)         (None, 2048)              0         \n",
            "                                                                 \n",
            " dense_18 (Dense)            (None, 512)               1049088   \n",
            "                                                                 \n",
            " dense_19 (Dense)            (None, 1)                 513       \n",
            "                                                                 \n",
            "=================================================================\n",
            "Total params: 24,637,313\n",
            "Trainable params: 2,104,321\n",
            "Non-trainable params: 22,532,992\n",
            "_________________________________________________________________\n",
            "None\n",
            "Epoch 1/20\n",
            "33/33 [==============================] - 21s 531ms/step - loss: 0.3035 - accuracy: 0.8860\n",
            "Epoch 2/20\n",
            "33/33 [==============================] - 16s 480ms/step - loss: 0.1019 - accuracy: 0.9556\n",
            "Epoch 3/20\n",
            "33/33 [==============================] - 16s 481ms/step - loss: 0.1467 - accuracy: 0.9536\n",
            "Epoch 4/20\n",
            "33/33 [==============================] - 16s 482ms/step - loss: 0.0517 - accuracy: 0.9826\n",
            "Epoch 5/20\n",
            "33/33 [==============================] - 16s 482ms/step - loss: 0.0370 - accuracy: 0.9836\n",
            "Epoch 6/20\n",
            "33/33 [==============================] - 16s 481ms/step - loss: 0.0298 - accuracy: 0.9894\n",
            "Epoch 7/20\n",
            "33/33 [==============================] - 16s 481ms/step - loss: 0.0313 - accuracy: 0.9903\n",
            "Epoch 8/20\n",
            "33/33 [==============================] - 16s 482ms/step - loss: 0.0117 - accuracy: 0.9961\n",
            "Epoch 9/20\n",
            "33/33 [==============================] - 16s 482ms/step - loss: 0.0143 - accuracy: 0.9952\n",
            "Epoch 10/20\n",
            "33/33 [==============================] - 16s 482ms/step - loss: 0.0216 - accuracy: 0.9942\n",
            "Epoch 11/20\n",
            "33/33 [==============================] - 16s 482ms/step - loss: 0.0157 - accuracy: 0.9942\n",
            "Epoch 12/20\n",
            "33/33 [==============================] - 16s 482ms/step - loss: 0.0022 - accuracy: 1.0000\n",
            "Epoch 13/20\n",
            "33/33 [==============================] - 16s 481ms/step - loss: 0.0014 - accuracy: 1.0000\n",
            "Epoch 14/20\n",
            "33/33 [==============================] - 16s 482ms/step - loss: 8.1026e-04 - accuracy: 1.0000\n",
            "Epoch 15/20\n",
            "33/33 [==============================] - 16s 480ms/step - loss: 5.3284e-04 - accuracy: 1.0000\n",
            "Epoch 16/20\n",
            "33/33 [==============================] - 16s 480ms/step - loss: 2.7863e-04 - accuracy: 1.0000\n",
            "Epoch 17/20\n",
            "33/33 [==============================] - 16s 480ms/step - loss: 4.4090e-04 - accuracy: 1.0000\n",
            "Epoch 18/20\n",
            "33/33 [==============================] - 16s 481ms/step - loss: 0.0030 - accuracy: 0.9990\n",
            "Epoch 19/20\n",
            "33/33 [==============================] - 16s 481ms/step - loss: 6.8971e-04 - accuracy: 1.0000\n",
            "Epoch 20/20\n",
            "33/33 [==============================] - 16s 480ms/step - loss: 7.6170e-04 - accuracy: 1.0000\n",
            "9/9 [==============================] - 6s 551ms/step - loss: 0.1588 - accuracy: 0.9690\n",
            "Model: \"sequential_10\"\n",
            "_________________________________________________________________\n",
            " Layer (type)                Output Shape              Param #   \n",
            "=================================================================\n",
            " resnet50 (Functional)       (None, 2048)              23587712  \n",
            "                                                                 \n",
            " flatten_10 (Flatten)        (None, 2048)              0         \n",
            "                                                                 \n",
            " dense_20 (Dense)            (None, 512)               1049088   \n",
            "                                                                 \n",
            " dense_21 (Dense)            (None, 1)                 513       \n",
            "                                                                 \n",
            "=================================================================\n",
            "Total params: 24,637,313\n",
            "Trainable params: 2,104,321\n",
            "Non-trainable params: 22,532,992\n",
            "_________________________________________________________________\n",
            "None\n",
            "Epoch 1/20\n",
            "33/33 [==============================] - 20s 482ms/step - loss: 0.5201 - accuracy: 0.8329\n",
            "Epoch 2/20\n",
            "33/33 [==============================] - 16s 480ms/step - loss: 0.1476 - accuracy: 0.9449\n",
            "Epoch 3/20\n",
            "33/33 [==============================] - 16s 480ms/step - loss: 0.0929 - accuracy: 0.9633\n",
            "Epoch 4/20\n",
            "33/33 [==============================] - 16s 480ms/step - loss: 0.0643 - accuracy: 0.9787\n",
            "Epoch 5/20\n",
            "33/33 [==============================] - 16s 481ms/step - loss: 0.0581 - accuracy: 0.9807\n",
            "Epoch 6/20\n",
            "33/33 [==============================] - 16s 481ms/step - loss: 0.0318 - accuracy: 0.9865\n",
            "Epoch 7/20\n",
            "33/33 [==============================] - 16s 481ms/step - loss: 0.0245 - accuracy: 0.9894\n",
            "Epoch 8/20\n",
            "33/33 [==============================] - 16s 482ms/step - loss: 0.0151 - accuracy: 0.9971\n",
            "Epoch 9/20\n",
            "33/33 [==============================] - 16s 480ms/step - loss: 0.0075 - accuracy: 0.9961\n",
            "Epoch 10/20\n",
            "33/33 [==============================] - 16s 481ms/step - loss: 0.0167 - accuracy: 0.9942\n",
            "Epoch 11/20\n",
            "33/33 [==============================] - 16s 481ms/step - loss: 0.0809 - accuracy: 0.9720\n",
            "Epoch 12/20\n",
            "33/33 [==============================] - 16s 482ms/step - loss: 0.0153 - accuracy: 0.9971\n",
            "Epoch 13/20\n",
            "33/33 [==============================] - 16s 481ms/step - loss: 0.0091 - accuracy: 0.9990\n",
            "Epoch 14/20\n",
            "33/33 [==============================] - 16s 481ms/step - loss: 0.0038 - accuracy: 1.0000\n",
            "Epoch 15/20\n",
            "33/33 [==============================] - 16s 481ms/step - loss: 0.0053 - accuracy: 0.9990\n",
            "Epoch 16/20\n",
            "33/33 [==============================] - 16s 482ms/step - loss: 0.0032 - accuracy: 0.9990\n",
            "Epoch 17/20\n",
            "33/33 [==============================] - 16s 482ms/step - loss: 0.0021 - accuracy: 1.0000\n",
            "Epoch 18/20\n",
            "33/33 [==============================] - 16s 481ms/step - loss: 0.0012 - accuracy: 1.0000\n",
            "Epoch 19/20\n",
            "33/33 [==============================] - 16s 481ms/step - loss: 5.6053e-04 - accuracy: 1.0000\n",
            "Epoch 20/20\n",
            "33/33 [==============================] - 16s 480ms/step - loss: 5.0106e-04 - accuracy: 1.0000\n",
            "9/9 [==============================] - 5s 433ms/step - loss: 0.0948 - accuracy: 0.9767\n"
          ]
        }
      ]
    }
  ]
}