{
  "cells": [
    {
      "cell_type": "code",
      "execution_count": null,
      "metadata": {
        "colab": {
          "base_uri": "https://localhost:8080/"
        },
        "id": "bdX9NVnIhXFS",
        "outputId": "b03106ab-78ff-4f2b-bc6f-a19207bb0875"
      },
      "outputs": [
        {
          "name": "stdout",
          "output_type": "stream",
          "text": [
            "Collecting keras-unet-collection\n",
            "  Downloading keras_unet_collection-0.1.13-py3-none-any.whl (67 kB)\n",
            "\u001b[?25l\r\u001b[K     |████▉                           | 10 kB 26.3 MB/s eta 0:00:01\r\u001b[K     |█████████▋                      | 20 kB 22.9 MB/s eta 0:00:01\r\u001b[K     |██████████████▌                 | 30 kB 13.1 MB/s eta 0:00:01\r\u001b[K     |███████████████████▎            | 40 kB 9.8 MB/s eta 0:00:01\r\u001b[K     |████████████████████████▏       | 51 kB 4.5 MB/s eta 0:00:01\r\u001b[K     |█████████████████████████████   | 61 kB 5.3 MB/s eta 0:00:01\r\u001b[K     |████████████████████████████████| 67 kB 3.0 MB/s \n",
            "\u001b[?25hInstalling collected packages: keras-unet-collection\n",
            "Successfully installed keras-unet-collection-0.1.13\n"
          ]
        }
      ],
      "source": [
        "!pip install keras-unet-collection"
      ]
    },
    {
      "cell_type": "code",
      "execution_count": null,
      "metadata": {
        "id": "6znUUcsBS9pB"
      },
      "outputs": [],
      "source": [
        "!unzip dataset.zip"
      ]
    },
    {
      "cell_type": "code",
      "execution_count": null,
      "metadata": {
        "colab": {
          "base_uri": "https://localhost:8080/"
        },
        "id": "E2xXGZ9pTkhC",
        "outputId": "7f7ead41-3a44-4721-841b-bd89a3ef0a0e"
      },
      "outputs": [
        {
          "name": "stdout",
          "output_type": "stream",
          "text": [
            "input  labels\n"
          ]
        }
      ],
      "source": [
        "!ls dataset"
      ]
    },
    {
      "cell_type": "code",
      "execution_count": null,
      "metadata": {
        "id": "q2XcGlhRS4uB"
      },
      "outputs": [],
      "source": [
        "import os\n",
        "import cv2\n",
        "\n",
        "input_list = []\n",
        "label_list = []\n",
        "INPUT_PATH = '/content/dataset'\n",
        "\n",
        "for file in os.listdir(INPUT_PATH + '/input'):\n",
        "  img = cv2.imread(INPUT_PATH + '/input/' + file)\n",
        "  if img is not None:\n",
        "    img = cv2.resize(img, (128, 128))\n",
        "    input_list.append(img)\n",
        "\n",
        "for file in os.listdir(INPUT_PATH + '/labels'):\n",
        "  img = cv2.imread(INPUT_PATH + '/labels/' + file)\n",
        "  if img is not None:\n",
        "    img = cv2.resize(img, (128, 128))\n",
        "    label_list.append(img)"
      ]
    },
    {
      "cell_type": "code",
      "execution_count": null,
      "metadata": {
        "id": "grK6gJzoT1Ev"
      },
      "outputs": [],
      "source": [
        "import numpy as np\n",
        "\n",
        "input_arr = np.array(input_list)\n",
        "label_arr = np.array(label_list)"
      ]
    },
    {
      "cell_type": "code",
      "execution_count": null,
      "metadata": {
        "colab": {
          "base_uri": "https://localhost:8080/"
        },
        "id": "bvayITgKT-Lo",
        "outputId": "eb2a155a-e234-48ac-9d0e-4248d32a5a27"
      },
      "outputs": [
        {
          "name": "stdout",
          "output_type": "stream",
          "text": [
            "(616, 256, 256, 3)\n",
            "(616, 256, 256, 3)\n"
          ]
        }
      ],
      "source": [
        "print(input_arr.shape)\n",
        "print(label_arr.shape)"
      ]
    },
    {
      "cell_type": "code",
      "execution_count": null,
      "metadata": {
        "colab": {
          "base_uri": "https://localhost:8080/"
        },
        "id": "IjzYQdnhUGr3",
        "outputId": "941037ea-8df8-4e5c-badc-266c01b4b972"
      },
      "outputs": [
        {
          "name": "stdout",
          "output_type": "stream",
          "text": [
            "(492, 256, 256, 3)\n"
          ]
        }
      ],
      "source": [
        "from sklearn.model_selection import train_test_split\n",
        "\n",
        "X_train, X_test, y_train, y_test = train_test_split(input_arr, label_arr, test_size=0.2, random_state=42)\n",
        "\n",
        "print(X_train.shape)"
      ]
    },
    {
      "cell_type": "code",
      "execution_count": null,
      "metadata": {
        "id": "iUPhzY8oP4iH"
      },
      "outputs": [],
      "source": [
        "from keras_unet_collection import models"
      ]
    },
    {
      "cell_type": "code",
      "execution_count": null,
      "metadata": {
        "id": "tHWipVO0RUGn"
      },
      "outputs": [],
      "source": [
        "help(models.unet_plus_2d)"
      ]
    },
    {
      "cell_type": "code",
      "execution_count": null,
      "metadata": {
        "colab": {
          "base_uri": "https://localhost:8080/"
        },
        "id": "Peg-2M8YRdT4",
        "outputId": "a79af44c-1df0-449c-f8c0-769a2d415b51"
      },
      "outputs": [
        {
          "name": "stdout",
          "output_type": "stream",
          "text": [
            "----------\n",
            "deep_supervision = True\n",
            "names of output tensors are listed as follows (\"sup0\" is the shallowest supervision layer;\n",
            "\"final\" is the final output layer):\n",
            "\n",
            "\txnet_output_sup0_activation\n",
            "\txnet_output_sup1_activation\n",
            "\txnet_output_sup2_activation\n",
            "\txnet_output_final_activation\n"
          ]
        }
      ],
      "source": [
        "model1 = models.unet_plus_2d(input_size=(256, 256, 3), \n",
        "                             filter_num=[64, 128, 256, 512], \n",
        "                             n_labels=3, \n",
        "                             stack_num_down=2, \n",
        "                             stack_num_up=2, \n",
        "                             activation='ReLU', \n",
        "                             output_activation='Softmax',\n",
        "                             batch_norm=True, \n",
        "                             pool=False, \n",
        "                             unpool=False,\n",
        "                             deep_supervision=True,\n",
        "                             name='xnet')"
      ]
    },
    {
      "cell_type": "code",
      "execution_count": null,
      "metadata": {
        "colab": {
          "base_uri": "https://localhost:8080/",
          "height": 35
        },
        "id": "u36oFlhaV6tq",
        "outputId": "680e69cf-c636-43a8-c839-2856b66f4630"
      },
      "outputs": [
        {
          "data": {
            "application/vnd.google.colaboratory.intrinsic+json": {
              "type": "string"
            },
            "text/plain": [
              "'xnet_down0_0'"
            ]
          },
          "execution_count": 10,
          "metadata": {},
          "output_type": "execute_result"
        }
      ],
      "source": [
        "model1.layers[1].name"
      ]
    },
    {
      "cell_type": "code",
      "execution_count": null,
      "metadata": {
        "colab": {
          "base_uri": "https://localhost:8080/"
        },
        "id": "DoW6t305V_67",
        "outputId": "13675ed2-bca3-491a-b1d3-c4657a9c32d3"
      },
      "outputs": [
        {
          "name": "stderr",
          "output_type": "stream",
          "text": [
            "/usr/local/lib/python3.7/dist-packages/keras/optimizer_v2/adam.py:105: UserWarning: The `lr` argument is deprecated, use `learning_rate` instead.\n",
            "  super(Adam, self).__init__(name, **kwargs)\n"
          ]
        }
      ],
      "source": [
        "from tensorflow import keras\n",
        "\n",
        "model1.compile(loss=keras.losses.binary_crossentropy, optimizer=keras.optimizers.Adam(lr=1e-3), metrics = ['accuracy'])"
      ]
    },
    {
      "cell_type": "code",
      "execution_count": null,
      "metadata": {
        "colab": {
          "base_uri": "https://localhost:8080/"
        },
        "id": "Zi5kkIhvWNq5",
        "outputId": "692a8dc8-c001-4a9f-eb67-47e4018d5119"
      },
      "outputs": [
        {
          "name": "stdout",
          "output_type": "stream",
          "text": [
            "Model: \"xnet_model\"\n",
            "__________________________________________________________________________________________________\n",
            " Layer (type)                   Output Shape         Param #     Connected to                     \n",
            "==================================================================================================\n",
            " input_4 (InputLayer)           [(None, 256, 256, 3  0           []                               \n",
            "                                )]                                                                \n",
            "                                                                                                  \n",
            " xnet_down0_0 (Conv2D)          (None, 256, 256, 64  1728        ['input_4[0][0]']                \n",
            "                                )                                                                 \n",
            "                                                                                                  \n",
            " xnet_down0_0_bn (BatchNormaliz  (None, 256, 256, 64  256        ['xnet_down0_0[0][0]']           \n",
            " ation)                         )                                                                 \n",
            "                                                                                                  \n",
            " xnet_down0_0_activation (ReLU)  (None, 256, 256, 64  0          ['xnet_down0_0_bn[0][0]']        \n",
            "                                )                                                                 \n",
            "                                                                                                  \n",
            " xnet_down0_1 (Conv2D)          (None, 256, 256, 64  36864       ['xnet_down0_0_activation[0][0]']\n",
            "                                )                                                                 \n",
            "                                                                                                  \n",
            " xnet_down0_1_bn (BatchNormaliz  (None, 256, 256, 64  256        ['xnet_down0_1[0][0]']           \n",
            " ation)                         )                                                                 \n",
            "                                                                                                  \n",
            " xnet_down0_1_activation (ReLU)  (None, 256, 256, 64  0          ['xnet_down0_1_bn[0][0]']        \n",
            "                                )                                                                 \n",
            "                                                                                                  \n",
            " xnet_down1_encode_stride_conv   (None, 128, 128, 12  32768      ['xnet_down0_1_activation[0][0]']\n",
            " (Conv2D)                       8)                                                                \n",
            "                                                                                                  \n",
            " xnet_down1_encode_bn (BatchNor  (None, 128, 128, 12  512        ['xnet_down1_encode_stride_conv[0\n",
            " malization)                    8)                               ][0]']                           \n",
            "                                                                                                  \n",
            " xnet_down1_encode_activation (  (None, 128, 128, 12  0          ['xnet_down1_encode_bn[0][0]']   \n",
            " ReLU)                          8)                                                                \n",
            "                                                                                                  \n",
            " xnet_down1_conv_0 (Conv2D)     (None, 128, 128, 12  147456      ['xnet_down1_encode_activation[0]\n",
            "                                8)                               [0]']                            \n",
            "                                                                                                  \n",
            " xnet_down1_conv_0_bn (BatchNor  (None, 128, 128, 12  512        ['xnet_down1_conv_0[0][0]']      \n",
            " malization)                    8)                                                                \n",
            "                                                                                                  \n",
            " xnet_down1_conv_0_activation (  (None, 128, 128, 12  0          ['xnet_down1_conv_0_bn[0][0]']   \n",
            " ReLU)                          8)                                                                \n",
            "                                                                                                  \n",
            " xnet_down1_conv_1 (Conv2D)     (None, 128, 128, 12  147456      ['xnet_down1_conv_0_activation[0]\n",
            "                                8)                               [0]']                            \n",
            "                                                                                                  \n",
            " xnet_down1_conv_1_bn (BatchNor  (None, 128, 128, 12  512        ['xnet_down1_conv_1[0][0]']      \n",
            " malization)                    8)                                                                \n",
            "                                                                                                  \n",
            " xnet_down1_conv_1_activation (  (None, 128, 128, 12  0          ['xnet_down1_conv_1_bn[0][0]']   \n",
            " ReLU)                          8)                                                                \n",
            "                                                                                                  \n",
            " xnet_down2_encode_stride_conv   (None, 64, 64, 256)  131072     ['xnet_down1_conv_1_activation[0]\n",
            " (Conv2D)                                                        [0]']                            \n",
            "                                                                                                  \n",
            " xnet_down2_encode_bn (BatchNor  (None, 64, 64, 256)  1024       ['xnet_down2_encode_stride_conv[0\n",
            " malization)                                                     ][0]']                           \n",
            "                                                                                                  \n",
            " xnet_down2_encode_activation (  (None, 64, 64, 256)  0          ['xnet_down2_encode_bn[0][0]']   \n",
            " ReLU)                                                                                            \n",
            "                                                                                                  \n",
            " xnet_down2_conv_0 (Conv2D)     (None, 64, 64, 256)  589824      ['xnet_down2_encode_activation[0]\n",
            "                                                                 [0]']                            \n",
            "                                                                                                  \n",
            " xnet_down2_conv_0_bn (BatchNor  (None, 64, 64, 256)  1024       ['xnet_down2_conv_0[0][0]']      \n",
            " malization)                                                                                      \n",
            "                                                                                                  \n",
            " xnet_down2_conv_0_activation (  (None, 64, 64, 256)  0          ['xnet_down2_conv_0_bn[0][0]']   \n",
            " ReLU)                                                                                            \n",
            "                                                                                                  \n",
            " xnet_down2_conv_1 (Conv2D)     (None, 64, 64, 256)  589824      ['xnet_down2_conv_0_activation[0]\n",
            "                                                                 [0]']                            \n",
            "                                                                                                  \n",
            " xnet_down2_conv_1_bn (BatchNor  (None, 64, 64, 256)  1024       ['xnet_down2_conv_1[0][0]']      \n",
            " malization)                                                                                      \n",
            "                                                                                                  \n",
            " xnet_down2_conv_1_activation (  (None, 64, 64, 256)  0          ['xnet_down2_conv_1_bn[0][0]']   \n",
            " ReLU)                                                                                            \n",
            "                                                                                                  \n",
            " xnet_down3_encode_stride_conv   (None, 32, 32, 512)  524288     ['xnet_down2_conv_1_activation[0]\n",
            " (Conv2D)                                                        [0]']                            \n",
            "                                                                                                  \n",
            " xnet_down3_encode_bn (BatchNor  (None, 32, 32, 512)  2048       ['xnet_down3_encode_stride_conv[0\n",
            " malization)                                                     ][0]']                           \n",
            "                                                                                                  \n",
            " xnet_down3_encode_activation (  (None, 32, 32, 512)  0          ['xnet_down3_encode_bn[0][0]']   \n",
            " ReLU)                                                                                            \n",
            "                                                                                                  \n",
            " xnet_down3_conv_0 (Conv2D)     (None, 32, 32, 512)  2359296     ['xnet_down3_encode_activation[0]\n",
            "                                                                 [0]']                            \n",
            "                                                                                                  \n",
            " xnet_down3_conv_0_bn (BatchNor  (None, 32, 32, 512)  2048       ['xnet_down3_conv_0[0][0]']      \n",
            " malization)                                                                                      \n",
            "                                                                                                  \n",
            " xnet_down3_conv_0_activation (  (None, 32, 32, 512)  0          ['xnet_down3_conv_0_bn[0][0]']   \n",
            " ReLU)                                                                                            \n",
            "                                                                                                  \n",
            " xnet_down3_conv_1 (Conv2D)     (None, 32, 32, 512)  2359296     ['xnet_down3_conv_0_activation[0]\n",
            "                                                                 [0]']                            \n",
            "                                                                                                  \n",
            " xnet_down3_conv_1_bn (BatchNor  (None, 32, 32, 512)  2048       ['xnet_down3_conv_1[0][0]']      \n",
            " malization)                                                                                      \n",
            "                                                                                                  \n",
            " xnet_down3_conv_1_activation (  (None, 32, 32, 512)  0          ['xnet_down3_conv_1_bn[0][0]']   \n",
            " ReLU)                                                                                            \n",
            "                                                                                                  \n",
            " xnet_up0_from2_decode_trans_co  (None, 64, 64, 256)  1179904    ['xnet_down3_conv_1_activation[0]\n",
            " nv (Conv2DTranspose)                                            [0]']                            \n",
            "                                                                                                  \n",
            " xnet_up0_from2_decode_bn (Batc  (None, 64, 64, 256)  1024       ['xnet_up0_from2_decode_trans_con\n",
            " hNormalization)                                                 v[0][0]']                        \n",
            "                                                                                                  \n",
            " xnet_up0_from2_decode_activati  (None, 64, 64, 256)  0          ['xnet_up0_from2_decode_bn[0][0]'\n",
            " on (ReLU)                                                       ]                                \n",
            "                                                                                                  \n",
            " xnet_up0_from2_conv_before_con  (None, 64, 64, 256)  589824     ['xnet_up0_from2_decode_activatio\n",
            " cat_0 (Conv2D)                                                  n[0][0]']                        \n",
            "                                                                                                  \n",
            " xnet_up0_from2_conv_before_con  (None, 64, 64, 256)  1024       ['xnet_up0_from2_conv_before_conc\n",
            " cat_0_bn (BatchNormalization)                                   at_0[0][0]']                     \n",
            "                                                                                                  \n",
            " xnet_up0_from2_conv_before_con  (None, 64, 64, 256)  0          ['xnet_up0_from2_conv_before_conc\n",
            " cat_0_activation (ReLU)                                         at_0_bn[0][0]']                  \n",
            "                                                                                                  \n",
            " xnet_up0_from2_conv_after_conc  (None, 64, 64, 256)  589824     ['xnet_up0_from2_conv_before_conc\n",
            " at_0 (Conv2D)                                                   at_0_activation[0][0]']          \n",
            "                                                                                                  \n",
            " xnet_up0_from2_conv_after_conc  (None, 64, 64, 256)  1024       ['xnet_up0_from2_conv_after_conca\n",
            " at_0_bn (BatchNormalization)                                    t_0[0][0]']                      \n",
            "                                                                                                  \n",
            " xnet_up0_from2_conv_after_conc  (None, 64, 64, 256)  0          ['xnet_up0_from2_conv_after_conca\n",
            " at_0_activation (ReLU)                                          t_0_bn[0][0]']                   \n",
            "                                                                                                  \n",
            " xnet_up0_from2_conv_after_conc  (None, 64, 64, 256)  589824     ['xnet_up0_from2_conv_after_conca\n",
            " at_1 (Conv2D)                                                   t_0_activation[0][0]']           \n",
            "                                                                                                  \n",
            " xnet_up0_from2_conv_after_conc  (None, 64, 64, 256)  1024       ['xnet_up0_from2_conv_after_conca\n",
            " at_1_bn (BatchNormalization)                                    t_1[0][0]']                      \n",
            "                                                                                                  \n",
            " xnet_up0_from2_conv_after_conc  (None, 64, 64, 256)  0          ['xnet_up0_from2_conv_after_conca\n",
            " at_1_activation (ReLU)                                          t_1_bn[0][0]']                   \n",
            "                                                                                                  \n",
            " xnet_up0_from1_decode_trans_co  (None, 128, 128, 12  295040     ['xnet_down2_conv_1_activation[0]\n",
            " nv (Conv2DTranspose)           8)                               [0]']                            \n",
            "                                                                                                  \n",
            " xnet_up1_from1_decode_trans_co  (None, 128, 128, 12  295040     ['xnet_up0_from2_conv_after_conca\n",
            " nv (Conv2DTranspose)           8)                               t_1_activation[0][0]']           \n",
            "                                                                                                  \n",
            " xnet_up0_from1_decode_bn (Batc  (None, 128, 128, 12  512        ['xnet_up0_from1_decode_trans_con\n",
            " hNormalization)                8)                               v[0][0]']                        \n",
            "                                                                                                  \n",
            " xnet_up1_from1_decode_bn (Batc  (None, 128, 128, 12  512        ['xnet_up1_from1_decode_trans_con\n",
            " hNormalization)                8)                               v[0][0]']                        \n",
            "                                                                                                  \n",
            " xnet_up0_from1_decode_activati  (None, 128, 128, 12  0          ['xnet_up0_from1_decode_bn[0][0]'\n",
            " on (ReLU)                      8)                               ]                                \n",
            "                                                                                                  \n",
            " xnet_up1_from1_decode_activati  (None, 128, 128, 12  0          ['xnet_up1_from1_decode_bn[0][0]'\n",
            " on (ReLU)                      8)                               ]                                \n",
            "                                                                                                  \n",
            " xnet_up0_from1_conv_before_con  (None, 128, 128, 12  147456     ['xnet_up0_from1_decode_activatio\n",
            " cat_0 (Conv2D)                 8)                               n[0][0]']                        \n",
            "                                                                                                  \n",
            " xnet_up1_from1_conv_before_con  (None, 128, 128, 12  147456     ['xnet_up1_from1_decode_activatio\n",
            " cat_0 (Conv2D)                 8)                               n[0][0]']                        \n",
            "                                                                                                  \n",
            " xnet_up0_from1_conv_before_con  (None, 128, 128, 12  512        ['xnet_up0_from1_conv_before_conc\n",
            " cat_0_bn (BatchNormalization)  8)                               at_0[0][0]']                     \n",
            "                                                                                                  \n",
            " xnet_up1_from1_conv_before_con  (None, 128, 128, 12  512        ['xnet_up1_from1_conv_before_conc\n",
            " cat_0_bn (BatchNormalization)  8)                               at_0[0][0]']                     \n",
            "                                                                                                  \n",
            " xnet_up0_from1_conv_before_con  (None, 128, 128, 12  0          ['xnet_up0_from1_conv_before_conc\n",
            " cat_0_activation (ReLU)        8)                               at_0_bn[0][0]']                  \n",
            "                                                                                                  \n",
            " xnet_up1_from1_conv_before_con  (None, 128, 128, 12  0          ['xnet_up1_from1_conv_before_conc\n",
            " cat_0_activation (ReLU)        8)                               at_0_bn[0][0]']                  \n",
            "                                                                                                  \n",
            " xnet_up0_from1_conv_after_conc  (None, 128, 128, 12  147456     ['xnet_up0_from1_conv_before_conc\n",
            " at_0 (Conv2D)                  8)                               at_0_activation[0][0]']          \n",
            "                                                                                                  \n",
            " xnet_up1_from1_conv_after_conc  (None, 128, 128, 12  147456     ['xnet_up1_from1_conv_before_conc\n",
            " at_0 (Conv2D)                  8)                               at_0_activation[0][0]']          \n",
            "                                                                                                  \n",
            " xnet_up0_from1_conv_after_conc  (None, 128, 128, 12  512        ['xnet_up0_from1_conv_after_conca\n",
            " at_0_bn (BatchNormalization)   8)                               t_0[0][0]']                      \n",
            "                                                                                                  \n",
            " xnet_up1_from1_conv_after_conc  (None, 128, 128, 12  512        ['xnet_up1_from1_conv_after_conca\n",
            " at_0_bn (BatchNormalization)   8)                               t_0[0][0]']                      \n",
            "                                                                                                  \n",
            " xnet_up0_from1_conv_after_conc  (None, 128, 128, 12  0          ['xnet_up0_from1_conv_after_conca\n",
            " at_0_activation (ReLU)         8)                               t_0_bn[0][0]']                   \n",
            "                                                                                                  \n",
            " xnet_up1_from1_conv_after_conc  (None, 128, 128, 12  0          ['xnet_up1_from1_conv_after_conca\n",
            " at_0_activation (ReLU)         8)                               t_0_bn[0][0]']                   \n",
            "                                                                                                  \n",
            " xnet_up0_from1_conv_after_conc  (None, 128, 128, 12  147456     ['xnet_up0_from1_conv_after_conca\n",
            " at_1 (Conv2D)                  8)                               t_0_activation[0][0]']           \n",
            "                                                                                                  \n",
            " xnet_up1_from1_conv_after_conc  (None, 128, 128, 12  147456     ['xnet_up1_from1_conv_after_conca\n",
            " at_1 (Conv2D)                  8)                               t_0_activation[0][0]']           \n",
            "                                                                                                  \n",
            " xnet_up0_from1_conv_after_conc  (None, 128, 128, 12  512        ['xnet_up0_from1_conv_after_conca\n",
            " at_1_bn (BatchNormalization)   8)                               t_1[0][0]']                      \n",
            "                                                                                                  \n",
            " xnet_up1_from1_conv_after_conc  (None, 128, 128, 12  512        ['xnet_up1_from1_conv_after_conca\n",
            " at_1_bn (BatchNormalization)   8)                               t_1[0][0]']                      \n",
            "                                                                                                  \n",
            " xnet_up0_from1_conv_after_conc  (None, 128, 128, 12  0          ['xnet_up0_from1_conv_after_conca\n",
            " at_1_activation (ReLU)         8)                               t_1_bn[0][0]']                   \n",
            "                                                                                                  \n",
            " xnet_up1_from1_conv_after_conc  (None, 128, 128, 12  0          ['xnet_up1_from1_conv_after_conca\n",
            " at_1_activation (ReLU)         8)                               t_1_bn[0][0]']                   \n",
            "                                                                                                  \n",
            " xnet_up0_from0_decode_trans_co  (None, 256, 256, 64  73792      ['xnet_down1_conv_1_activation[0]\n",
            " nv (Conv2DTranspose)           )                                [0]']                            \n",
            "                                                                                                  \n",
            " xnet_up1_from0_decode_trans_co  (None, 256, 256, 64  73792      ['xnet_up0_from1_conv_after_conca\n",
            " nv (Conv2DTranspose)           )                                t_1_activation[0][0]']           \n",
            "                                                                                                  \n",
            " xnet_up2_from0_decode_trans_co  (None, 256, 256, 64  73792      ['xnet_up1_from1_conv_after_conca\n",
            " nv (Conv2DTranspose)           )                                t_1_activation[0][0]']           \n",
            "                                                                                                  \n",
            " xnet_up0_from0_decode_bn (Batc  (None, 256, 256, 64  256        ['xnet_up0_from0_decode_trans_con\n",
            " hNormalization)                )                                v[0][0]']                        \n",
            "                                                                                                  \n",
            " xnet_up1_from0_decode_bn (Batc  (None, 256, 256, 64  256        ['xnet_up1_from0_decode_trans_con\n",
            " hNormalization)                )                                v[0][0]']                        \n",
            "                                                                                                  \n",
            " xnet_up2_from0_decode_bn (Batc  (None, 256, 256, 64  256        ['xnet_up2_from0_decode_trans_con\n",
            " hNormalization)                )                                v[0][0]']                        \n",
            "                                                                                                  \n",
            " xnet_up0_from0_decode_activati  (None, 256, 256, 64  0          ['xnet_up0_from0_decode_bn[0][0]'\n",
            " on (ReLU)                      )                                ]                                \n",
            "                                                                                                  \n",
            " xnet_up1_from0_decode_activati  (None, 256, 256, 64  0          ['xnet_up1_from0_decode_bn[0][0]'\n",
            " on (ReLU)                      )                                ]                                \n",
            "                                                                                                  \n",
            " xnet_up2_from0_decode_activati  (None, 256, 256, 64  0          ['xnet_up2_from0_decode_bn[0][0]'\n",
            " on (ReLU)                      )                                ]                                \n",
            "                                                                                                  \n",
            " xnet_up0_from0_conv_before_con  (None, 256, 256, 64  36864      ['xnet_up0_from0_decode_activatio\n",
            " cat_0 (Conv2D)                 )                                n[0][0]']                        \n",
            "                                                                                                  \n",
            " xnet_up1_from0_conv_before_con  (None, 256, 256, 64  36864      ['xnet_up1_from0_decode_activatio\n",
            " cat_0 (Conv2D)                 )                                n[0][0]']                        \n",
            "                                                                                                  \n",
            " xnet_up2_from0_conv_before_con  (None, 256, 256, 64  36864      ['xnet_up2_from0_decode_activatio\n",
            " cat_0 (Conv2D)                 )                                n[0][0]']                        \n",
            "                                                                                                  \n",
            " xnet_up0_from0_conv_before_con  (None, 256, 256, 64  256        ['xnet_up0_from0_conv_before_conc\n",
            " cat_0_bn (BatchNormalization)  )                                at_0[0][0]']                     \n",
            "                                                                                                  \n",
            " xnet_up1_from0_conv_before_con  (None, 256, 256, 64  256        ['xnet_up1_from0_conv_before_conc\n",
            " cat_0_bn (BatchNormalization)  )                                at_0[0][0]']                     \n",
            "                                                                                                  \n",
            " xnet_up2_from0_conv_before_con  (None, 256, 256, 64  256        ['xnet_up2_from0_conv_before_conc\n",
            " cat_0_bn (BatchNormalization)  )                                at_0[0][0]']                     \n",
            "                                                                                                  \n",
            " xnet_up0_from0_conv_before_con  (None, 256, 256, 64  0          ['xnet_up0_from0_conv_before_conc\n",
            " cat_0_activation (ReLU)        )                                at_0_bn[0][0]']                  \n",
            "                                                                                                  \n",
            " xnet_up1_from0_conv_before_con  (None, 256, 256, 64  0          ['xnet_up1_from0_conv_before_conc\n",
            " cat_0_activation (ReLU)        )                                at_0_bn[0][0]']                  \n",
            "                                                                                                  \n",
            " xnet_up2_from0_conv_before_con  (None, 256, 256, 64  0          ['xnet_up2_from0_conv_before_conc\n",
            " cat_0_activation (ReLU)        )                                at_0_bn[0][0]']                  \n",
            "                                                                                                  \n",
            " xnet_up0_from0_conv_after_conc  (None, 256, 256, 64  36864      ['xnet_up0_from0_conv_before_conc\n",
            " at_0 (Conv2D)                  )                                at_0_activation[0][0]']          \n",
            "                                                                                                  \n",
            " xnet_up1_from0_conv_after_conc  (None, 256, 256, 64  36864      ['xnet_up1_from0_conv_before_conc\n",
            " at_0 (Conv2D)                  )                                at_0_activation[0][0]']          \n",
            "                                                                                                  \n",
            " xnet_up2_from0_conv_after_conc  (None, 256, 256, 64  36864      ['xnet_up2_from0_conv_before_conc\n",
            " at_0 (Conv2D)                  )                                at_0_activation[0][0]']          \n",
            "                                                                                                  \n",
            " xnet_up0_from0_conv_after_conc  (None, 256, 256, 64  256        ['xnet_up0_from0_conv_after_conca\n",
            " at_0_bn (BatchNormalization)   )                                t_0[0][0]']                      \n",
            "                                                                                                  \n",
            " xnet_up1_from0_conv_after_conc  (None, 256, 256, 64  256        ['xnet_up1_from0_conv_after_conca\n",
            " at_0_bn (BatchNormalization)   )                                t_0[0][0]']                      \n",
            "                                                                                                  \n",
            " xnet_up2_from0_conv_after_conc  (None, 256, 256, 64  256        ['xnet_up2_from0_conv_after_conca\n",
            " at_0_bn (BatchNormalization)   )                                t_0[0][0]']                      \n",
            "                                                                                                  \n",
            " xnet_up0_from0_conv_after_conc  (None, 256, 256, 64  0          ['xnet_up0_from0_conv_after_conca\n",
            " at_0_activation (ReLU)         )                                t_0_bn[0][0]']                   \n",
            "                                                                                                  \n",
            " xnet_up1_from0_conv_after_conc  (None, 256, 256, 64  0          ['xnet_up1_from0_conv_after_conca\n",
            " at_0_activation (ReLU)         )                                t_0_bn[0][0]']                   \n",
            "                                                                                                  \n",
            " xnet_up2_from0_conv_after_conc  (None, 256, 256, 64  0          ['xnet_up2_from0_conv_after_conca\n",
            " at_0_activation (ReLU)         )                                t_0_bn[0][0]']                   \n",
            "                                                                                                  \n",
            " xnet_up0_from0_conv_after_conc  (None, 256, 256, 64  36864      ['xnet_up0_from0_conv_after_conca\n",
            " at_1 (Conv2D)                  )                                t_0_activation[0][0]']           \n",
            "                                                                                                  \n",
            " xnet_up1_from0_conv_after_conc  (None, 256, 256, 64  36864      ['xnet_up1_from0_conv_after_conca\n",
            " at_1 (Conv2D)                  )                                t_0_activation[0][0]']           \n",
            "                                                                                                  \n",
            " xnet_up2_from0_conv_after_conc  (None, 256, 256, 64  36864      ['xnet_up2_from0_conv_after_conca\n",
            " at_1 (Conv2D)                  )                                t_0_activation[0][0]']           \n",
            "                                                                                                  \n",
            " xnet_up0_from0_conv_after_conc  (None, 256, 256, 64  256        ['xnet_up0_from0_conv_after_conca\n",
            " at_1_bn (BatchNormalization)   )                                t_1[0][0]']                      \n",
            "                                                                                                  \n",
            " xnet_up1_from0_conv_after_conc  (None, 256, 256, 64  256        ['xnet_up1_from0_conv_after_conca\n",
            " at_1_bn (BatchNormalization)   )                                t_1[0][0]']                      \n",
            "                                                                                                  \n",
            " xnet_up2_from0_conv_after_conc  (None, 256, 256, 64  256        ['xnet_up2_from0_conv_after_conca\n",
            " at_1_bn (BatchNormalization)   )                                t_1[0][0]']                      \n",
            "                                                                                                  \n",
            " xnet_up0_from0_conv_after_conc  (None, 256, 256, 64  0          ['xnet_up0_from0_conv_after_conca\n",
            " at_1_activation (ReLU)         )                                t_1_bn[0][0]']                   \n",
            "                                                                                                  \n",
            " xnet_up1_from0_conv_after_conc  (None, 256, 256, 64  0          ['xnet_up1_from0_conv_after_conca\n",
            " at_1_activation (ReLU)         )                                t_1_bn[0][0]']                   \n",
            "                                                                                                  \n",
            " xnet_up2_from0_conv_after_conc  (None, 256, 256, 64  0          ['xnet_up2_from0_conv_after_conca\n",
            " at_1_activation (ReLU)         )                                t_1_bn[0][0]']                   \n",
            "                                                                                                  \n",
            " xnet_output_sup0 (Conv2D)      (None, 256, 256, 3)  195         ['xnet_down0_1_activation[0][0]']\n",
            "                                                                                                  \n",
            " xnet_output_sup1 (Conv2D)      (None, 256, 256, 3)  195         ['xnet_up0_from0_conv_after_conca\n",
            "                                                                 t_1_activation[0][0]']           \n",
            "                                                                                                  \n",
            " xnet_output_sup2 (Conv2D)      (None, 256, 256, 3)  195         ['xnet_up1_from0_conv_after_conca\n",
            "                                                                 t_1_activation[0][0]']           \n",
            "                                                                                                  \n",
            " xnet_output_final (Conv2D)     (None, 256, 256, 3)  195         ['xnet_up2_from0_conv_after_conca\n",
            "                                                                 t_1_activation[0][0]']           \n",
            "                                                                                                  \n",
            " xnet_output_sup0_activation (S  (None, 256, 256, 3)  0          ['xnet_output_sup0[0][0]']       \n",
            " oftmax)                                                                                          \n",
            "                                                                                                  \n",
            " xnet_output_sup1_activation (S  (None, 256, 256, 3)  0          ['xnet_output_sup1[0][0]']       \n",
            " oftmax)                                                                                          \n",
            "                                                                                                  \n",
            " xnet_output_sup2_activation (S  (None, 256, 256, 3)  0          ['xnet_output_sup2[0][0]']       \n",
            " oftmax)                                                                                          \n",
            "                                                                                                  \n",
            " xnet_output_final_activation (  (None, 256, 256, 3)  0          ['xnet_output_final[0][0]']      \n",
            " Softmax)                                                                                         \n",
            "                                                                                                  \n",
            "==================================================================================================\n",
            "Total params: 11,920,524\n",
            "Trainable params: 11,909,260\n",
            "Non-trainable params: 11,264\n",
            "__________________________________________________________________________________________________\n",
            "None\n"
          ]
        }
      ],
      "source": [
        "print(model1.summary())"
      ]
    },
    {
      "cell_type": "code",
      "execution_count": null,
      "metadata": {
        "id": "ZdpZaXNnWfE7"
      },
      "outputs": [],
      "source": [
        "callback = keras.callbacks.EarlyStopping(monitor = 'val_accuracy', patience = 4)"
      ]
    },
    {
      "cell_type": "code",
      "execution_count": null,
      "metadata": {
        "colab": {
          "base_uri": "https://localhost:8080/",
          "height": 1000
        },
        "id": "1gFUHIl6WntC",
        "outputId": "6c8c7482-32c0-4cb2-d3eb-e8f3f1ce4482"
      },
      "outputs": [],
      "source": [
        "hist = model1.fit(X_train, y_train, verbose=2, batch_size=32, \n",
        "                  shuffle = False, epochs=10, validation_split=0.1, \n",
        "                  callbacks = [callback])"
      ]
    },
    {
      "cell_type": "code",
      "execution_count": null,
      "metadata": {
        "colab": {
          "base_uri": "https://localhost:8080/"
        },
        "id": "IbIv3jnMXYL1",
        "outputId": "e1bd9b46-7bf7-47bb-a947-202d3ae83eb6"
      },
      "outputs": [
        {
          "name": "stdout",
          "output_type": "stream",
          "text": [
            "(492, 270, 480, 3) (492, 270, 480, 3)\n"
          ]
        }
      ],
      "source": [
        "print(X_train.shape, y_train.shape)"
      ]
    }
  ],
  "metadata": {
    "accelerator": "GPU",
    "colab": {
      "collapsed_sections": [],
      "name": "polyp_classification.ipynb",
      "provenance": []
    },
    "kernelspec": {
      "display_name": "Python 3",
      "name": "python3"
    },
    "language_info": {
      "name": "python"
    }
  },
  "nbformat": 4,
  "nbformat_minor": 0
}
