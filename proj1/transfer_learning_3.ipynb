{
  "nbformat": 4,
  "nbformat_minor": 0,
  "metadata": {
    "colab": {
      "name": "Untitled0.ipynb",
      "provenance": [],
      "collapsed_sections": []
    },
    "kernelspec": {
      "name": "python3",
      "display_name": "Python 3"
    },
    "language_info": {
      "name": "python"
    },
    "accelerator": "GPU"
  },
  "cells": [
    {
      "cell_type": "code",
      "source": [
        "!tar -xvf QA-Polyp-Dataset-2015-train.tar"
      ],
      "metadata": {
        "id": "bFY1ajE6aiHo"
      },
      "execution_count": null,
      "outputs": []
    },
    {
      "cell_type": "code",
      "source": [
        "import numpy as np\n",
        "import os\n",
        "import cv2 as cv\n",
        "from sklearn.model_selection import train_test_split\n",
        "import PIL\n",
        "import tensorflow as tf\n",
        "from tensorflow.keras import layers\n",
        "from tensorflow.keras.layers import Dense, Flatten\n",
        "from tensorflow.keras.models import Sequential\n",
        "from tensorflow.keras.optimizers import Adam"
      ],
      "metadata": {
        "id": "iefNGxB_8roV"
      },
      "execution_count": 6,
      "outputs": []
    },
    {
      "cell_type": "code",
      "source": [
        "x_dataset = []\n",
        "y_dataset = []\n",
        "train_path = 'QA-Polyp/train'\n",
        "\n",
        "with open(os.path.join(train_path,'train.txt')) as f:\n",
        "  for line in f.readlines():\n",
        "    img, label = line.split(' ')\n",
        "    y_dataset.append(label)\n",
        "    image = cv.imread(os.path.join(train_path, img))\n",
        "    res = cv.resize(image,(224, 224), interpolation = cv.INTER_CUBIC)\n",
        "    x_dataset.append(res)\n",
        "\n",
        "print(x_dataset[0].shape)\n",
        "print(y_dataset[0])"
      ],
      "metadata": {
        "colab": {
          "base_uri": "https://localhost:8080/"
        },
        "id": "za-meLKLBMjU",
        "outputId": "f95dde45-d0f6-4a80-b7ce-6e05efaf4d1e"
      },
      "execution_count": 7,
      "outputs": [
        {
          "output_type": "stream",
          "name": "stdout",
          "text": [
            "(224, 224, 3)\n",
            "0\n",
            "\n"
          ]
        }
      ]
    },
    {
      "cell_type": "code",
      "source": [
        "x_array = np.asarray(x_dataset)\n",
        "y_array = np.asarray(y_dataset)\n",
        "print(x_array.shape, y_array.shape)"
      ],
      "metadata": {
        "colab": {
          "base_uri": "https://localhost:8080/"
        },
        "id": "C22z1mwsCWIK",
        "outputId": "cab03bb1-5fbc-40f0-b5d0-0675d23d7298"
      },
      "execution_count": 8,
      "outputs": [
        {
          "output_type": "stream",
          "name": "stdout",
          "text": [
            "(1062, 224, 224, 3) (1062,)\n"
          ]
        }
      ]
    },
    {
      "cell_type": "code",
      "source": [
        "X_train, X_test, y_train, y_test = train_test_split(x_array, y_array, test_size=0.3, random_state=42)\n",
        "print(X_train.shape)"
      ],
      "metadata": {
        "colab": {
          "base_uri": "https://localhost:8080/"
        },
        "id": "LVfAHytsGZoN",
        "outputId": "bbe322f5-8c40-43a2-ccdb-06f2b8294b33"
      },
      "execution_count": 9,
      "outputs": [
        {
          "output_type": "stream",
          "name": "stdout",
          "text": [
            "(743, 224, 224, 3)\n"
          ]
        }
      ]
    },
    {
      "cell_type": "code",
      "source": [
        "resnet_model = Sequential()\n",
        "\n",
        "pretrained_model= tf.keras.applications.resnet50.ResNet50(include_top=False,\n",
        "                   input_shape=(224, 224, 3),\n",
        "                   pooling='avg',classes=2,\n",
        "                   weights='imagenet')\n",
        "for layer in pretrained_model.layers:\n",
        "        layer.trainable=False\n",
        "\n",
        "resnet_model.add(pretrained_model)"
      ],
      "metadata": {
        "id": "HXzodRbzG8OX",
        "colab": {
          "base_uri": "https://localhost:8080/"
        },
        "outputId": "11f370a3-8c03-4cff-fa2c-dde978fe5da0"
      },
      "execution_count": 10,
      "outputs": [
        {
          "output_type": "stream",
          "name": "stdout",
          "text": [
            "Downloading data from https://storage.googleapis.com/tensorflow/keras-applications/resnet/resnet50_weights_tf_dim_ordering_tf_kernels_notop.h5\n",
            "94773248/94765736 [==============================] - 0s 0us/step\n",
            "94781440/94765736 [==============================] - 0s 0us/step\n"
          ]
        }
      ]
    },
    {
      "cell_type": "code",
      "source": [
        "resnet_model.add(Flatten())\n",
        "resnet_model.add(Dense(512, activation='relu'))\n",
        "resnet_model.add(Dense(1, activation='sigmoid'))"
      ],
      "metadata": {
        "id": "PFkai3VORyo2"
      },
      "execution_count": 11,
      "outputs": []
    },
    {
      "cell_type": "code",
      "source": [
        "resnet_model.summary()"
      ],
      "metadata": {
        "colab": {
          "base_uri": "https://localhost:8080/"
        },
        "id": "UU6RCHhoST-l",
        "outputId": "1855cd34-f08f-4bfa-d833-e1e1861455b0"
      },
      "execution_count": null,
      "outputs": [
        {
          "output_type": "stream",
          "name": "stdout",
          "text": [
            "Model: \"sequential\"\n",
            "_________________________________________________________________\n",
            " Layer (type)                Output Shape              Param #   \n",
            "=================================================================\n",
            " resnet50 (Functional)       (None, 2048)              23587712  \n",
            "                                                                 \n",
            " flatten (Flatten)           (None, 2048)              0         \n",
            "                                                                 \n",
            " dense (Dense)               (None, 512)               1049088   \n",
            "                                                                 \n",
            " dense_1 (Dense)             (None, 2)                 1026      \n",
            "                                                                 \n",
            " flatten_1 (Flatten)         (None, 2)                 0         \n",
            "                                                                 \n",
            " dense_2 (Dense)             (None, 512)               1536      \n",
            "                                                                 \n",
            " dense_3 (Dense)             (None, 2)                 1026      \n",
            "                                                                 \n",
            "=================================================================\n",
            "Total params: 24,640,388\n",
            "Trainable params: 1,052,676\n",
            "Non-trainable params: 23,587,712\n",
            "_________________________________________________________________\n"
          ]
        }
      ]
    },
    {
      "cell_type": "code",
      "source": [
        "# Hyperparameters\n",
        "LR = 0.001\n",
        "EPOCHS = 10"
      ],
      "metadata": {
        "id": "VCpAS_LsRq3o"
      },
      "execution_count": 12,
      "outputs": []
    },
    {
      "cell_type": "code",
      "source": [
        "resnet_model.compile(optimizer=Adam(lr=LR),loss='binary_crossentropy',metrics=['accuracy'])\n",
        "\n",
        "history = resnet_model.fit(x=X_train, \n",
        "                           y=y_train,\n",
        "                           batch_size=32,\n",
        "                           epochs=10)"
      ],
      "metadata": {
        "colab": {
          "base_uri": "https://localhost:8080/"
        },
        "id": "iuH8N-gkSiCm",
        "outputId": "67e9eb59-0f33-428e-cc1f-f82197bd4f5e"
      },
      "execution_count": 15,
      "outputs": [
        {
          "output_type": "stream",
          "name": "stdout",
          "text": [
            "Epoch 1/10\n"
          ]
        },
        {
          "output_type": "stream",
          "name": "stderr",
          "text": [
            "/usr/local/lib/python3.7/dist-packages/keras/optimizer_v2/adam.py:105: UserWarning: The `lr` argument is deprecated, use `learning_rate` instead.\n",
            "  super(Adam, self).__init__(name, **kwargs)\n"
          ]
        },
        {
          "output_type": "stream",
          "name": "stdout",
          "text": [
            "24/24 [==============================] - 15s 102ms/step - loss: 0.2183 - accuracy: 0.9260\n",
            "Epoch 2/10\n",
            "24/24 [==============================] - 2s 88ms/step - loss: 0.1083 - accuracy: 0.9502\n",
            "Epoch 3/10\n",
            "24/24 [==============================] - 2s 86ms/step - loss: 0.0860 - accuracy: 0.9610\n",
            "Epoch 4/10\n",
            "24/24 [==============================] - 2s 85ms/step - loss: 0.0627 - accuracy: 0.9744\n",
            "Epoch 5/10\n",
            "24/24 [==============================] - 2s 85ms/step - loss: 0.0533 - accuracy: 0.9771\n",
            "Epoch 6/10\n",
            "24/24 [==============================] - 2s 85ms/step - loss: 0.0482 - accuracy: 0.9798\n",
            "Epoch 7/10\n",
            "24/24 [==============================] - 2s 85ms/step - loss: 0.0471 - accuracy: 0.9758\n",
            "Epoch 8/10\n",
            "24/24 [==============================] - 2s 85ms/step - loss: 0.0417 - accuracy: 0.9825\n",
            "Epoch 9/10\n",
            "24/24 [==============================] - 2s 86ms/step - loss: 0.0422 - accuracy: 0.9798\n",
            "Epoch 10/10\n",
            "24/24 [==============================] - 2s 85ms/step - loss: 0.0239 - accuracy: 0.9919\n"
          ]
        }
      ]
    },
    {
      "cell_type": "code",
      "source": [
        "y_train = np.int_(y_train)\n",
        "y_train.dtype"
      ],
      "metadata": {
        "colab": {
          "base_uri": "https://localhost:8080/"
        },
        "id": "JKffd_uqUNY3",
        "outputId": "012306fa-b88f-4a99-f264-1001954bcc5e"
      },
      "execution_count": 14,
      "outputs": [
        {
          "output_type": "execute_result",
          "data": {
            "text/plain": [
              "dtype('int64')"
            ]
          },
          "metadata": {},
          "execution_count": 14
        }
      ]
    },
    {
      "cell_type": "code",
      "source": [
        "loss, acc = resnet_model.evaluate(X_test, y_test, verbose=0)\n",
        "print('Test Accuracy: %.3f' % acc)"
      ],
      "metadata": {
        "id": "Qo6aDEaxWtoH",
        "colab": {
          "base_uri": "https://localhost:8080/"
        },
        "outputId": "677cb09c-5db8-4ca2-92f7-c067e4f2c828"
      },
      "execution_count": 18,
      "outputs": [
        {
          "output_type": "stream",
          "name": "stdout",
          "text": [
            "Test Accuracy: 0.947\n"
          ]
        }
      ]
    },
    {
      "cell_type": "code",
      "source": [
        "y_test = np.int_(y_test)\n",
        "y_test.dtype"
      ],
      "metadata": {
        "colab": {
          "base_uri": "https://localhost:8080/"
        },
        "id": "YVv5rc3Mbpo1",
        "outputId": "c99e4a84-7a2c-486d-85dd-108f36f3b668"
      },
      "execution_count": 17,
      "outputs": [
        {
          "output_type": "execute_result",
          "data": {
            "text/plain": [
              "dtype('int64')"
            ]
          },
          "metadata": {},
          "execution_count": 17
        }
      ]
    },
    {
      "cell_type": "code",
      "source": [
        ""
      ],
      "metadata": {
        "id": "KrkXA3wcbzZ1"
      },
      "execution_count": null,
      "outputs": []
    }
  ]
}