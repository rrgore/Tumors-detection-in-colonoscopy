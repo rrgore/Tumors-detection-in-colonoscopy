{
  "nbformat": 4,
  "nbformat_minor": 0,
  "metadata": {
    "colab": {
      "name": "Paper_1(custom).ipynb",
      "provenance": [],
      "collapsed_sections": []
    },
    "kernelspec": {
      "name": "python3",
      "display_name": "Python 3"
    },
    "language_info": {
      "name": "python"
    },
    "accelerator": "GPU"
  },
  "cells": [
    {
      "cell_type": "code",
      "source": [
        "ls"
      ],
      "metadata": {
        "id": "d5J-TeQBt_gF"
      },
      "execution_count": null,
      "outputs": []
    },
    {
      "cell_type": "code",
      "source": [
        "!unzip QA-Polyp-20220325T005009Z-001.zip"
      ],
      "metadata": {
        "id": "uiF6e3koTqgR"
      },
      "execution_count": null,
      "outputs": []
    },
    {
      "cell_type": "code",
      "source": [
        "import numpy as np\n",
        "import os\n",
        "import cv2 as cv\n",
        "from sklearn.model_selection import train_test_split\n",
        "import PIL\n",
        "import tensorflow as tf\n",
        "from tensorflow.keras import layers\n",
        "from tensorflow.keras.layers import Dense, Flatten\n",
        "from tensorflow.keras.models import Sequential\n",
        "from tensorflow.keras.optimizers import Adam"
      ],
      "metadata": {
        "id": "iefNGxB_8roV"
      },
      "execution_count": 23,
      "outputs": []
    },
    {
      "cell_type": "code",
      "source": [
        "x_dataset = []\n",
        "y_dataset = []\n",
        "train_path = 'QA-Polyp/train'\n",
        "\n",
        "with open(os.path.join(train_path,'train.txt')) as f:\n",
        "  for line in f.readlines():\n",
        "    img, label = line.split(' ')\n",
        "    y_dataset.append(label)\n",
        "    image = cv.imread(os.path.join(train_path, img))\n",
        "    res = cv.resize(image,(224, 224), interpolation = cv.INTER_CUBIC)\n",
        "    x_dataset.append(res)\n",
        "\n",
        "print(x_dataset[0].shape)\n",
        "print(y_dataset[0])"
      ],
      "metadata": {
        "id": "za-meLKLBMjU"
      },
      "execution_count": null,
      "outputs": []
    },
    {
      "cell_type": "code",
      "source": [
        "x_array = np.asarray(x_dataset)\n",
        "y_array = np.asarray(y_dataset)\n",
        "print(x_array.shape, y_array.shape)"
      ],
      "metadata": {
        "colab": {
          "base_uri": "https://localhost:8080/"
        },
        "id": "C22z1mwsCWIK",
        "outputId": "43c44fea-3478-41fd-a9a2-055e3410d2a0"
      },
      "execution_count": null,
      "outputs": [
        {
          "output_type": "stream",
          "name": "stdout",
          "text": [
            "(1062, 224, 224, 3) (1062,)\n"
          ]
        }
      ]
    },
    {
      "cell_type": "code",
      "source": [
        "X_train, X_test, y_train, y_test = train_test_split(x_array, y_array, test_size=0.3, random_state=42)\n",
        "print(X_train.shape)"
      ],
      "metadata": {
        "colab": {
          "base_uri": "https://localhost:8080/"
        },
        "id": "LVfAHytsGZoN",
        "outputId": "0967fa3b-39ca-4fce-8164-7c5805843c56"
      },
      "execution_count": null,
      "outputs": [
        {
          "output_type": "stream",
          "name": "stdout",
          "text": [
            "(743, 224, 224, 3)\n"
          ]
        }
      ]
    },
    {
      "cell_type": "code",
      "source": [
        "resnet_model = Sequential()\n",
        "\n",
        "pretrained_model= tf.keras.applications.resnet50.ResNet50(include_top=False,\n",
        "                   input_shape=(224, 224, 3),\n",
        "                   pooling='avg',classes=2,\n",
        "                   weights='imagenet')\n",
        "for layer in pretrained_model.layers:\n",
        "        layer.trainable=False\n",
        "\n",
        "resnet_model.add(pretrained_model)"
      ],
      "metadata": {
        "id": "HXzodRbzG8OX"
      },
      "execution_count": null,
      "outputs": []
    },
    {
      "cell_type": "code",
      "source": [
        "resnet_model.add(Flatten())\n",
        "resnet_model.add(Dense(512, activation='relu'))\n",
        "resnet_model.add(Dense(256, activation='relu'))\n",
        "resnet_model.add(Dense(1, activation='sigmoid'))"
      ],
      "metadata": {
        "id": "PFkai3VORyo2"
      },
      "execution_count": null,
      "outputs": []
    },
    {
      "cell_type": "code",
      "source": [
        "resnet_model.summary()"
      ],
      "metadata": {
        "colab": {
          "base_uri": "https://localhost:8080/"
        },
        "id": "UU6RCHhoST-l",
        "outputId": "f756869f-797a-4b50-afb9-7ac390496117"
      },
      "execution_count": null,
      "outputs": [
        {
          "output_type": "stream",
          "name": "stdout",
          "text": [
            "Model: \"sequential\"\n",
            "_________________________________________________________________\n",
            " Layer (type)                Output Shape              Param #   \n",
            "=================================================================\n",
            " resnet50 (Functional)       (None, 2048)              23587712  \n",
            "                                                                 \n",
            " flatten (Flatten)           (None, 2048)              0         \n",
            "                                                                 \n",
            " dense (Dense)               (None, 512)               1049088   \n",
            "                                                                 \n",
            " dense_1 (Dense)             (None, 256)               131328    \n",
            "                                                                 \n",
            " dense_2 (Dense)             (None, 1)                 257       \n",
            "                                                                 \n",
            "=================================================================\n",
            "Total params: 24,768,385\n",
            "Trainable params: 1,180,673\n",
            "Non-trainable params: 23,587,712\n",
            "_________________________________________________________________\n"
          ]
        }
      ]
    },
    {
      "cell_type": "code",
      "source": [
        "# Hyperparameters\n",
        "LR = 0.001\n",
        "EPOCHS = 10"
      ],
      "metadata": {
        "id": "VCpAS_LsRq3o"
      },
      "execution_count": null,
      "outputs": []
    },
    {
      "cell_type": "markdown",
      "source": [
        "Adding weights to loss function to account for datasset imbalance. \n",
        "\n",
        "Count\n",
        "\n",
        "Clear - 830\n",
        "Blurry - 234\n",
        "\n",
        "Annotations\n",
        "\n",
        "clear - 0\n",
        "Blurry - 1\n",
        "\n",
        "Weight for blurry = 830/234 = 3.54\n",
        "weight for clear = 1.00"
      ],
      "metadata": {
        "id": "xxscU_s0nuRg"
      }
    },
    {
      "cell_type": "code",
      "source": [
        "# Adding class weights to loss to account for data imbalance\n",
        "\n",
        "\n",
        "class_weights = { 0:1.00, 1:3.54 }"
      ],
      "metadata": {
        "id": "QtGuDON2lbuK"
      },
      "execution_count": null,
      "outputs": []
    },
    {
      "cell_type": "code",
      "source": [
        "resnet_model.compile(optimizer=Adam(lr=LR),loss='binary_crossentropy',metrics=['accuracy'], class_weight = class_weights)"
      ],
      "metadata": {
        "colab": {
          "base_uri": "https://localhost:8080/"
        },
        "id": "iuH8N-gkSiCm",
        "outputId": "28d6a87b-55e8-46f9-80c2-c22850078e8e"
      },
      "execution_count": null,
      "outputs": [
        {
          "output_type": "stream",
          "name": "stderr",
          "text": [
            "/usr/local/lib/python3.7/dist-packages/keras/optimizer_v2/adam.py:105: UserWarning: The `lr` argument is deprecated, use `learning_rate` instead.\n",
            "  super(Adam, self).__init__(name, **kwargs)\n"
          ]
        }
      ]
    },
    {
      "cell_type": "code",
      "source": [
        "y_train = np.int_(y_train)\n",
        "y_train.dtype"
      ],
      "metadata": {
        "colab": {
          "base_uri": "https://localhost:8080/"
        },
        "id": "JKffd_uqUNY3",
        "outputId": "763ca988-44ab-44c8-9a51-249dab516891"
      },
      "execution_count": null,
      "outputs": [
        {
          "output_type": "execute_result",
          "data": {
            "text/plain": [
              "dtype('int64')"
            ]
          },
          "metadata": {},
          "execution_count": 10
        }
      ]
    },
    {
      "cell_type": "code",
      "source": [
        "hist = resnet_model.fit(x=X_train, y=y_train, batch_size=32, epochs=10, validation_split=0.1)"
      ],
      "metadata": {
        "colab": {
          "base_uri": "https://localhost:8080/"
        },
        "id": "DUcPVAyrVEDs",
        "outputId": "b4170184-7bf6-425e-e556-af902b6f142f"
      },
      "execution_count": null,
      "outputs": [
        {
          "output_type": "stream",
          "name": "stdout",
          "text": [
            "Epoch 1/10\n",
            "21/21 [==============================] - 17s 479ms/step - loss: 0.3714 - accuracy: 0.8743 - val_loss: 0.1006 - val_accuracy: 0.9333\n",
            "Epoch 2/10\n",
            "21/21 [==============================] - 6s 283ms/step - loss: 0.1271 - accuracy: 0.9506 - val_loss: 0.0998 - val_accuracy: 0.9333\n",
            "Epoch 3/10\n",
            "21/21 [==============================] - 6s 284ms/step - loss: 0.1110 - accuracy: 0.9551 - val_loss: 0.0944 - val_accuracy: 0.9333\n",
            "Epoch 4/10\n",
            "21/21 [==============================] - 6s 284ms/step - loss: 0.0990 - accuracy: 0.9626 - val_loss: 0.1893 - val_accuracy: 0.9200\n",
            "Epoch 5/10\n",
            "21/21 [==============================] - 6s 283ms/step - loss: 0.1100 - accuracy: 0.9446 - val_loss: 0.1279 - val_accuracy: 0.9333\n",
            "Epoch 6/10\n",
            "21/21 [==============================] - 6s 284ms/step - loss: 0.0778 - accuracy: 0.9716 - val_loss: 0.0944 - val_accuracy: 0.9467\n",
            "Epoch 7/10\n",
            "21/21 [==============================] - 6s 284ms/step - loss: 0.0684 - accuracy: 0.9656 - val_loss: 0.0982 - val_accuracy: 0.9600\n",
            "Epoch 8/10\n",
            "21/21 [==============================] - 6s 284ms/step - loss: 0.0562 - accuracy: 0.9775 - val_loss: 0.1145 - val_accuracy: 0.9467\n",
            "Epoch 9/10\n",
            "21/21 [==============================] - 6s 284ms/step - loss: 0.0413 - accuracy: 0.9865 - val_loss: 0.1918 - val_accuracy: 0.9067\n",
            "Epoch 10/10\n",
            "21/21 [==============================] - 6s 284ms/step - loss: 0.0262 - accuracy: 0.9940 - val_loss: 0.1424 - val_accuracy: 0.9467\n"
          ]
        }
      ]
    },
    {
      "cell_type": "code",
      "source": [
        "y_test = np.int_(y_test)\n",
        "y_test.dtype"
      ],
      "metadata": {
        "colab": {
          "base_uri": "https://localhost:8080/"
        },
        "id": "YVv5rc3Mbpo1",
        "outputId": "3fd3b7a8-20bc-4a1c-870d-741ae8370af2"
      },
      "execution_count": null,
      "outputs": [
        {
          "output_type": "execute_result",
          "data": {
            "text/plain": [
              "dtype('int64')"
            ]
          },
          "metadata": {},
          "execution_count": 12
        }
      ]
    },
    {
      "cell_type": "code",
      "source": [
        "loss, acc = resnet_model.evaluate(X_test, y_test, verbose=0)\n",
        "print('Test Accuracy: %.3f' % acc)"
      ],
      "metadata": {
        "id": "Qo6aDEaxWtoH",
        "colab": {
          "base_uri": "https://localhost:8080/"
        },
        "outputId": "14701a39-f29e-414f-c7a8-e388c3347018"
      },
      "execution_count": null,
      "outputs": [
        {
          "output_type": "stream",
          "name": "stdout",
          "text": [
            "Test Accuracy: 0.956\n"
          ]
        }
      ]
    },
    {
      "cell_type": "code",
      "source": [
        "# obtaining predictions \n",
        "\n",
        "pred = resnet_model.predict(X_test)\n",
        "\n",
        "predictions = (resnet_model.predict(X_test) > 0.5).astype(\"int32\")"
      ],
      "metadata": {
        "id": "MsSlKKk6XWww"
      },
      "execution_count": null,
      "outputs": []
    },
    {
      "cell_type": "code",
      "source": [
        "# View first few predicitons\n",
        "\n",
        "print(predictions[0:15])"
      ],
      "metadata": {
        "colab": {
          "base_uri": "https://localhost:8080/"
        },
        "id": "WTrGg43-YCQy",
        "outputId": "20e007d7-b819-4824-d7c5-f9e803ad002a"
      },
      "execution_count": null,
      "outputs": [
        {
          "output_type": "stream",
          "name": "stdout",
          "text": [
            "[[0]\n",
            " [0]\n",
            " [0]\n",
            " [1]\n",
            " [0]\n",
            " [0]\n",
            " [0]\n",
            " [0]\n",
            " [0]\n",
            " [1]\n",
            " [0]\n",
            " [1]\n",
            " [1]\n",
            " [0]\n",
            " [0]]\n"
          ]
        }
      ]
    },
    {
      "cell_type": "markdown",
      "source": [
        "### **PLOTS**"
      ],
      "metadata": {
        "id": "eyWji35BWG_l"
      }
    },
    {
      "cell_type": "code",
      "source": [
        "from matplotlib import pyplot as plt\n",
        "\n",
        "plt.plot(hist.history['accuracy'])\n",
        "plt.plot(hist.history['val_accuracy'])\n",
        "plt.title('model accuracy')\n",
        "plt.ylabel('accuracy')\n",
        "plt.xlabel('epoch')\n",
        "plt.legend(['train', 'val'], loc='upper left')\n",
        "plt.show()"
      ],
      "metadata": {
        "id": "KrkXA3wcbzZ1",
        "colab": {
          "base_uri": "https://localhost:8080/",
          "height": 295
        },
        "outputId": "c9fa827b-af7a-47ad-c4f2-cb93b2e845ba"
      },
      "execution_count": null,
      "outputs": [
        {
          "output_type": "display_data",
          "data": {
            "text/plain": [
              "<Figure size 432x288 with 1 Axes>"
            ],
            "image/png": "[encoded data removed]"
          },
          "metadata": {
            "needs_background": "light"
          }
        }
      ]
    },
    {
      "cell_type": "code",
      "source": [
        "# Loss\n",
        "\n",
        "plt.plot(hist.history['loss'])\n",
        "plt.plot(hist.history['val_loss'])\n",
        "plt.title('model loss')\n",
        "plt.ylabel('loss')\n",
        "plt.xlabel('epoch')\n",
        "plt.legend(['train', 'val'], loc='upper left')\n",
        "plt.show()"
      ],
      "metadata": {
        "colab": {
          "base_uri": "https://localhost:8080/",
          "height": 295
        },
        "id": "h_ZJNYQpWO93",
        "outputId": "bf19e927-493f-4562-9e87-fecd0ff8fde0"
      },
      "execution_count": null,
      "outputs": [
        {
          "output_type": "display_data",
          "data": {
            "text/plain": [
              "<Figure size 432x288 with 1 Axes>"
            ],
            "image/png": "[encoded data removed]"
          },
          "metadata": {
            "needs_background": "light"
          }
        }
      ]
    },
    {
      "cell_type": "markdown",
      "source": [
        "# **Confusion Matrix** "
      ],
      "metadata": {
        "id": "riTIJ52YXGQ7"
      }
    },
    {
      "cell_type": "code",
      "source": [
        "res = tf.math.confusion_matrix(y_test, predictions)"
      ],
      "metadata": {
        "id": "Ao2xD94aXRK0"
      },
      "execution_count": null,
      "outputs": []
    },
    {
      "cell_type": "markdown",
      "source": [
        "Accuracy = (253+52)/(253+52+8+6) = 305/319 = 95.6 %"
      ],
      "metadata": {
        "id": "ug5BGBnAaS0q"
      }
    },
    {
      "cell_type": "code",
      "source": [
        "print('Confusion_matrix: ',res)"
      ],
      "metadata": {
        "colab": {
          "base_uri": "https://localhost:8080/"
        },
        "id": "HlXWv2zyXb_C",
        "outputId": "7b69135d-5bfe-48ce-f519-d07298b64db9"
      },
      "execution_count": null,
      "outputs": [
        {
          "output_type": "stream",
          "name": "stdout",
          "text": [
            "Confusion_matrix:  tf.Tensor(\n",
            "[[253   6]\n",
            " [  8  52]], shape=(2, 2), dtype=int32)\n"
          ]
        }
      ]
    },
    {
      "cell_type": "markdown",
      "source": [
        "# **ROC**"
      ],
      "metadata": {
        "id": "9RrjMLkgfMaL"
      }
    },
    {
      "cell_type": "code",
      "source": [
        "\n",
        "from sklearn.metrics import roc_curve, roc_auc_score\n",
        "from sklearn.metrics import auc\n",
        "\n",
        "fpr, tpr, thresholds = roc_curve(y_test, pred)\n",
        "\n",
        "auc_keras = auc(fpr, tpr)"
      ],
      "metadata": {
        "id": "NQGxggDTejY3"
      },
      "execution_count": null,
      "outputs": []
    },
    {
      "cell_type": "code",
      "source": [
        "plt.ylabel('Sensitivity')\n",
        "plt.xlabel('Specificity')\n",
        "plt.title(\"ROC Curve - ResNet model\")\n",
        "plt.plot(fpr, tpr, marker='.', label='Neural Network (auc = %0.3f)' % auc_keras)"
      ],
      "metadata": {
        "colab": {
          "base_uri": "https://localhost:8080/",
          "height": 313
        },
        "id": "iUXXT-kufqiQ",
        "outputId": "ee3fba17-d7ec-4258-bb91-600a80349df1"
      },
      "execution_count": null,
      "outputs": [
        {
          "output_type": "execute_result",
          "data": {
            "text/plain": [
              "[<matplotlib.lines.Line2D at 0x7f3c84659c10>]"
            ]
          },
          "metadata": {},
          "execution_count": 39
        },
        {
          "output_type": "display_data",
          "data": {
            "text/plain": [
              "<Figure size 432x288 with 1 Axes>"
            ],
            "image/png": "[encoded data removed]"
          },
          "metadata": {
            "needs_background": "light"
          }
        }
      ]
    },
    {
      "cell_type": "code",
      "source": [
        "# You can also pass a discretized version of the predictions to get a staright curve like the \n",
        "# one below\n",
        "\n",
        "fpr, tpr, thresholds = roc_curve(y_test, predictions)\n",
        "\n",
        "auc_keras = auc(fpr, tpr)\n",
        "plt.ylabel('Sensitivity')\n",
        "plt.xlabel('Specificity')\n",
        "plt.title(\"ROC Curve - ResNet model\")\n",
        "plt.plot(fpr, tpr, marker='.', label='Neural Network (auc = %0.3f)' % auc_keras)"
      ],
      "metadata": {
        "colab": {
          "base_uri": "https://localhost:8080/",
          "height": 313
        },
        "id": "Ahgx3r2-iIns",
        "outputId": "f3d94a19-36d8-4f2e-be1a-6a3164146fa6"
      },
      "execution_count": null,
      "outputs": [
        {
          "output_type": "execute_result",
          "data": {
            "text/plain": [
              "[<matplotlib.lines.Line2D at 0x7f3c84431bd0>]"
            ]
          },
          "metadata": {},
          "execution_count": 40
        },
        {
          "output_type": "display_data",
          "data": {
            "text/plain": [
              "<Figure size 432x288 with 1 Axes>"
            ],
            "image/png": "[encoded data removed]"
          },
          "metadata": {
            "needs_background": "light"
          }
        }
      ]
    },
    {
      "cell_type": "code",
      "source": [
        " print('roc_auc_score : ', roc_auc_score(y_test, predictions))"
      ],
      "metadata": {
        "colab": {
          "base_uri": "https://localhost:8080/"
        },
        "id": "J_BO2OHrf2Xf",
        "outputId": "73a06793-57e4-4458-c396-38d594ebbd23"
      },
      "execution_count": null,
      "outputs": [
        {
          "output_type": "stream",
          "name": "stdout",
          "text": [
            "roc_auc_score :  0.9217503217503218\n"
          ]
        }
      ]
    }
  ]
}